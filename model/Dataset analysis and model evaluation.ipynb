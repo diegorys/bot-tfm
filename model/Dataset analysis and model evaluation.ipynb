{
 "cells": [
  {
   "cell_type": "markdown",
   "id": "e2467cc9",
   "metadata": {},
   "source": [
    "# ANÁLISIS DEL CONJUNTO DE DATOS Y EVALUACIÓN DEL MODELO"
   ]
  },
  {
   "cell_type": "markdown",
   "id": "0af71b96",
   "metadata": {},
   "source": [
    "## 1. Conjuntos de datos\n",
    "\n",
    "En este apartado, se describen los diferentes conjuntos de datos obtenidos en base a los diálogos. Cada registro está formado por una columna de entrada, que es el texto a clasificar, y una columna de salida, que es la intención en la que se clasifica el texto.\n",
    "\n",
    "Según se define en el apartado **4. Identificación de requisitos** de la memoria, se van a tratar las siguientes intenciones:\n",
    "\n",
    "- Registrar saludo\n",
    "- Registrar toma de medicamento\n",
    "- Registrar estado emocional\n",
    "- Registrar cita médica\n",
    "- Registrar despedida\n",
    "\n",
    "Los objetivos cubiertos son:\n",
    "- Detectar las necesidades de las personas mayores: en base al conjunto de datos etiquetado, se listan las necesidades y el número de registros que se han clasificado en cada texto. De este modo, es posible evaluar qué necesidades son las más importantes.\n",
    "- Conseguir un conjunto de datos de un mínimo de 100 registros: El objetivo es conseguir un conjunto de datos balanceado y sin duplicados de un mínimo de 100 registros de las intenciones que se van a tratar. Utilizamos sólo las intenciones que tienen más registros.\n",
    "- Conseguir accuracy 85%: lala"
   ]
  },
  {
   "cell_type": "code",
   "execution_count": 7,
   "id": "019854cb",
   "metadata": {},
   "outputs": [],
   "source": [
    "import json\n",
    "import matplotlib.pyplot as plt\n",
    "import pandas as pd\n",
    "\n",
    "def getDataset(version, sufix=\"\"):\n",
    "    path = f\"/home/jovyan/data/dataset/{version}/data{sufix}.json\"\n",
    "    with open(path, 'r') as f:\n",
    "      data = json.load(f)\n",
    "    return data\n",
    "\n",
    "def getDatasetAsDictionaryText(version):\n",
    "    dataset = getDataset(version)\n",
    "    datasetDictionary = {}\n",
    "    for item in dataset:\n",
    "        datasetDictionary[item[\"text\"]] = item\n",
    "    return datasetDictionary\n",
    "\n",
    "def dataToCSV(dataset, version, sufix=\"\"):\n",
    "    entries = []\n",
    "    for entry in dataset:\n",
    "        text = entry[\"text\"]\n",
    "        intent = entry[\"intent\"]\n",
    "        entryText = f\"{text};{intent}\"\n",
    "        entries.append(entryText)\n",
    "    path = f\"/home/jovyan/data/dataset/{version}/data{sufix}.csv\"\n",
    "    with open(path,'w') as f:\n",
    "        for line in entries:\n",
    "            f.write(line)\n",
    "            f.write('\\n')\n",
    "    \n",
    "def writeCSV(entries, version, sufix=\"\"):\n",
    "    path = f\"/home/jovyan/data/dataset/{version}/data{sufix}.csv\"\n",
    "    with open(path, 'w') as f:\n",
    "      json.dump(entries, f)\n",
    "\n",
    "def loadDataframe(version, sufix=\"\"):\n",
    "    dataset = getDataset(version, sufix)\n",
    "    entries = dataToCSV(dataset, version, sufix)\n",
    "    path = f\"/home/jovyan/data/dataset/{version}/data{sufix}.csv\"\n",
    "    df = pd.read_csv(path, names=[\"text\", \"intent\"], sep=\";\")\n",
    "    return df\n",
    "\n",
    "def filterDataframe(df):\n",
    "    filteredColumns = ['REGISTRAR_TOMA_MEDICAMENTO', 'REGISTRAR_ESTADO_EMOCIONAL', 'REGISTRAR_CITA_MEDICA', 'REGISTRAR_SALUDO', 'REGISTRAR_DESPEDIDA']\n",
    "    filter = df['intent'].isin(filteredColumns)\n",
    "    dfFiltered = df[filter]\n",
    "    return dfFiltered\n",
    "\n",
    "def saveTrainTestDataset(version):\n",
    "    dataset = getDatasetAsDictionaryText(version)\n",
    "    df = loadDataframe(version)\n",
    "    train=df.sample(frac=0.8,random_state=2) #random state is a seed value\n",
    "    test=df.drop(train.index)\n",
    "    saveDF(version, train, \"train\", dataset)\n",
    "    saveDF(version, test, \"test\", dataset)\n",
    "    dfTrain = loadDataframe(DATASET_VERSION, \"_train\")\n",
    "    dfTest = loadDataframe(DATASET_VERSION, \"_test\")\n",
    "    return dfTrain, dfTest\n",
    "        \n",
    "def saveDF(version, df, split, dataset):\n",
    "    output = {}\n",
    "    for index, row in df.iterrows():\n",
    "        output[row[\"text\"]] = dataset[row[\"text\"]]\n",
    "\n",
    "    toJSON = []\n",
    "               \n",
    "    for item in output.keys():\n",
    "        toJSON.append(output[item])\n",
    "    \n",
    "\n",
    "    path = f\"/home/jovyan/data/dataset/{DATASET_VERSION}/data_{split}.json\"\n",
    "    with open(path, \"w\", encoding=\"utf-8\") as f:\n",
    "        json.dump(toJSON, f, ensure_ascii=False, indent=4)\n",
    "        print(f\"Saved at {path}\")"
   ]
  },
  {
   "cell_type": "code",
   "execution_count": 8,
   "id": "d4d6ccc0",
   "metadata": {},
   "outputs": [],
   "source": [
    "DATASETS = {}\n",
    "DATATRAIN = {}\n",
    "DATATEST = {}"
   ]
  },
  {
   "cell_type": "markdown",
   "id": "97e17e5f",
   "metadata": {},
   "source": [
    "### 1.1. Conjunto v1"
   ]
  },
  {
   "cell_type": "code",
   "execution_count": 9,
   "id": "31023a94",
   "metadata": {},
   "outputs": [
    {
     "data": {
      "text/html": [
       "<div>\n",
       "<style scoped>\n",
       "    .dataframe tbody tr th:only-of-type {\n",
       "        vertical-align: middle;\n",
       "    }\n",
       "\n",
       "    .dataframe tbody tr th {\n",
       "        vertical-align: top;\n",
       "    }\n",
       "\n",
       "    .dataframe thead th {\n",
       "        text-align: right;\n",
       "    }\n",
       "</style>\n",
       "<table border=\"1\" class=\"dataframe\">\n",
       "  <thead>\n",
       "    <tr style=\"text-align: right;\">\n",
       "      <th></th>\n",
       "      <th>text</th>\n",
       "      <th>intent</th>\n",
       "    </tr>\n",
       "  </thead>\n",
       "  <tbody>\n",
       "    <tr>\n",
       "      <th>0</th>\n",
       "      <td>Espero que no se enamore de ti como en Her, au...</td>\n",
       "      <td>NO_IDENTIFICADO</td>\n",
       "    </tr>\n",
       "    <tr>\n",
       "      <th>1</th>\n",
       "      <td>Hola estoy muy sola necesito de tus consejos y...</td>\n",
       "      <td>REGISTRAR_ESTADO_EMOCIONAL</td>\n",
       "    </tr>\n",
       "    <tr>\n",
       "      <th>2</th>\n",
       "      <td>Este mismo mes de junio a las 8'30 con el enfe...</td>\n",
       "      <td>REGISTRAR_CITA_MEDICA</td>\n",
       "    </tr>\n",
       "    <tr>\n",
       "      <th>3</th>\n",
       "      <td>Hola, he estado un poco ocupado, lo siento, in...</td>\n",
       "      <td>REGISTRAR_ESTADO_EMOCIONAL</td>\n",
       "    </tr>\n",
       "    <tr>\n",
       "      <th>4</th>\n",
       "      <td>el rinialer me toca a las 9h</td>\n",
       "      <td>REGISTRAR_TOMA_MEDICAMENTO</td>\n",
       "    </tr>\n",
       "  </tbody>\n",
       "</table>\n",
       "</div>"
      ],
      "text/plain": [
       "                                                text  \\\n",
       "0  Espero que no se enamore de ti como en Her, au...   \n",
       "1  Hola estoy muy sola necesito de tus consejos y...   \n",
       "2  Este mismo mes de junio a las 8'30 con el enfe...   \n",
       "3  Hola, he estado un poco ocupado, lo siento, in...   \n",
       "4                       el rinialer me toca a las 9h   \n",
       "\n",
       "                       intent  \n",
       "0             NO_IDENTIFICADO  \n",
       "1  REGISTRAR_ESTADO_EMOCIONAL  \n",
       "2       REGISTRAR_CITA_MEDICA  \n",
       "3  REGISTRAR_ESTADO_EMOCIONAL  \n",
       "4  REGISTRAR_TOMA_MEDICAMENTO  "
      ]
     },
     "execution_count": 9,
     "metadata": {},
     "output_type": "execute_result"
    }
   ],
   "source": [
    "DATASET_VERSION = \"v1\" # Versión del conjunto de datos\n",
    "df = loadDataframe(DATASET_VERSION)\n",
    "df.head()"
   ]
  },
  {
   "cell_type": "code",
   "execution_count": 10,
   "id": "d733898f",
   "metadata": {},
   "outputs": [
    {
     "data": {
      "text/plain": [
       "(176, 2)"
      ]
     },
     "execution_count": 10,
     "metadata": {},
     "output_type": "execute_result"
    }
   ],
   "source": [
    "df.shape"
   ]
  },
  {
   "cell_type": "code",
   "execution_count": 11,
   "id": "0f00d481",
   "metadata": {},
   "outputs": [
    {
     "data": {
      "text/plain": [
       "array(['NO_IDENTIFICADO', 'REGISTRAR_ESTADO_EMOCIONAL',\n",
       "       'REGISTRAR_CITA_MEDICA', 'REGISTRAR_TOMA_MEDICAMENTO',\n",
       "       'REGISTRAR_NECESIDAD', 'REGISTRAR_DESPEDIDA', 'REGISTRAR_SALUDO',\n",
       "       'REGISTRAR_ALABANZA', 'REGISTRAR_CONFIRMACION',\n",
       "       'CONSULTAR_ESTADO_PERSONA_MAYOR', 'REGISTRAR_COVID',\n",
       "       'REGISTRAR_SITUACION_ADVERSA', 'ANOTAR_TOMA_MEDICAMENTO',\n",
       "       'ACTUALIZAR_TOMA_MEDICAMENTO', 'REGISTRAR_MEDIDA_MEDICA',\n",
       "       'REGISTRAR_SINTOMA', 'REGISTRAR_ANECDOTA', 'REGISTRAR_DUDA',\n",
       "       'REGISTRAR_DOMOTICA', 'RECORDAR_MEDICACION',\n",
       "       'RECORDAR_CITA_MEDICA', 'REGISTRAR_ACTIVIDAD', 'CONSULTAR_TIEMPO',\n",
       "       'REGISTRAR_TELEGRAM', 'REGISTRAR_RECHAZO', 'CONSULTAR_NUTRICION'],\n",
       "      dtype=object)"
      ]
     },
     "execution_count": 11,
     "metadata": {},
     "output_type": "execute_result"
    }
   ],
   "source": [
    "df[\"intent\"].unique()"
   ]
  },
  {
   "cell_type": "code",
   "execution_count": 12,
   "id": "a2b0ac14",
   "metadata": {},
   "outputs": [
    {
     "name": "stdout",
     "output_type": "stream",
     "text": [
      "<class 'pandas.core.frame.DataFrame'>\n",
      "RangeIndex: 176 entries, 0 to 175\n",
      "Data columns (total 2 columns):\n",
      " #   Column  Non-Null Count  Dtype \n",
      "---  ------  --------------  ----- \n",
      " 0   text    176 non-null    object\n",
      " 1   intent  176 non-null    object\n",
      "dtypes: object(2)\n",
      "memory usage: 2.9+ KB\n"
     ]
    }
   ],
   "source": [
    "df.info()"
   ]
  },
  {
   "cell_type": "code",
   "execution_count": 13,
   "id": "26cc3731",
   "metadata": {},
   "outputs": [
    {
     "data": {
      "text/html": [
       "<div>\n",
       "<style scoped>\n",
       "    .dataframe tbody tr th:only-of-type {\n",
       "        vertical-align: middle;\n",
       "    }\n",
       "\n",
       "    .dataframe tbody tr th {\n",
       "        vertical-align: top;\n",
       "    }\n",
       "\n",
       "    .dataframe thead th {\n",
       "        text-align: right;\n",
       "    }\n",
       "</style>\n",
       "<table border=\"1\" class=\"dataframe\">\n",
       "  <thead>\n",
       "    <tr style=\"text-align: right;\">\n",
       "      <th></th>\n",
       "      <th>text</th>\n",
       "      <th>intent</th>\n",
       "    </tr>\n",
       "  </thead>\n",
       "  <tbody>\n",
       "    <tr>\n",
       "      <th>count</th>\n",
       "      <td>176</td>\n",
       "      <td>176</td>\n",
       "    </tr>\n",
       "    <tr>\n",
       "      <th>unique</th>\n",
       "      <td>172</td>\n",
       "      <td>26</td>\n",
       "    </tr>\n",
       "    <tr>\n",
       "      <th>top</th>\n",
       "      <td>Hola</td>\n",
       "      <td>NO_IDENTIFICADO</td>\n",
       "    </tr>\n",
       "    <tr>\n",
       "      <th>freq</th>\n",
       "      <td>3</td>\n",
       "      <td>35</td>\n",
       "    </tr>\n",
       "  </tbody>\n",
       "</table>\n",
       "</div>"
      ],
      "text/plain": [
       "        text           intent\n",
       "count    176              176\n",
       "unique   172               26\n",
       "top     Hola  NO_IDENTIFICADO\n",
       "freq       3               35"
      ]
     },
     "execution_count": 13,
     "metadata": {},
     "output_type": "execute_result"
    }
   ],
   "source": [
    "df.describe()"
   ]
  },
  {
   "cell_type": "code",
   "execution_count": 14,
   "id": "567a4550",
   "metadata": {},
   "outputs": [
    {
     "data": {
      "text/html": [
       "<div>\n",
       "<style scoped>\n",
       "    .dataframe tbody tr th:only-of-type {\n",
       "        vertical-align: middle;\n",
       "    }\n",
       "\n",
       "    .dataframe tbody tr th {\n",
       "        vertical-align: top;\n",
       "    }\n",
       "\n",
       "    .dataframe thead th {\n",
       "        text-align: right;\n",
       "    }\n",
       "</style>\n",
       "<table border=\"1\" class=\"dataframe\">\n",
       "  <thead>\n",
       "    <tr style=\"text-align: right;\">\n",
       "      <th></th>\n",
       "      <th>text</th>\n",
       "      <th>intent</th>\n",
       "    </tr>\n",
       "  </thead>\n",
       "  <tbody>\n",
       "    <tr>\n",
       "      <th>16</th>\n",
       "      <td>Hola</td>\n",
       "      <td>REGISTRAR_SALUDO</td>\n",
       "    </tr>\n",
       "    <tr>\n",
       "      <th>136</th>\n",
       "      <td>Hola</td>\n",
       "      <td>REGISTRAR_SALUDO</td>\n",
       "    </tr>\n",
       "    <tr>\n",
       "      <th>161</th>\n",
       "      <td>Hola</td>\n",
       "      <td>REGISTRAR_SALUDO</td>\n",
       "    </tr>\n",
       "  </tbody>\n",
       "</table>\n",
       "</div>"
      ],
      "text/plain": [
       "     text            intent\n",
       "16   Hola  REGISTRAR_SALUDO\n",
       "136  Hola  REGISTRAR_SALUDO\n",
       "161  Hola  REGISTRAR_SALUDO"
      ]
     },
     "execution_count": 14,
     "metadata": {},
     "output_type": "execute_result"
    }
   ],
   "source": [
    "df[df['text']=='Hola']"
   ]
  },
  {
   "cell_type": "code",
   "execution_count": 15,
   "id": "f95cb6cc",
   "metadata": {},
   "outputs": [
    {
     "data": {
      "text/plain": [
       "NO_IDENTIFICADO                   35\n",
       "REGISTRAR_TOMA_MEDICAMENTO        28\n",
       "REGISTRAR_ESTADO_EMOCIONAL        26\n",
       "REGISTRAR_CITA_MEDICA             17\n",
       "REGISTRAR_SALUDO                  11\n",
       "REGISTRAR_DESPEDIDA                9\n",
       "REGISTRAR_ALABANZA                 7\n",
       "REGISTRAR_SITUACION_ADVERSA        6\n",
       "REGISTRAR_DOMOTICA                 5\n",
       "REGISTRAR_NECESIDAD                4\n",
       "REGISTRAR_CONFIRMACION             4\n",
       "REGISTRAR_ANECDOTA                 3\n",
       "REGISTRAR_COVID                    3\n",
       "CONSULTAR_ESTADO_PERSONA_MAYOR     3\n",
       "REGISTRAR_MEDIDA_MEDICA            2\n",
       "REGISTRAR_SINTOMA                  2\n",
       "REGISTRAR_ACTIVIDAD                2\n",
       "REGISTRAR_RECHAZO                  1\n",
       "REGISTRAR_TELEGRAM                 1\n",
       "CONSULTAR_TIEMPO                   1\n",
       "ACTUALIZAR_TOMA_MEDICAMENTO        1\n",
       "RECORDAR_CITA_MEDICA               1\n",
       "RECORDAR_MEDICACION                1\n",
       "REGISTRAR_DUDA                     1\n",
       "ANOTAR_TOMA_MEDICAMENTO            1\n",
       "CONSULTAR_NUTRICION                1\n",
       "Name: intent, dtype: int64"
      ]
     },
     "execution_count": 15,
     "metadata": {},
     "output_type": "execute_result"
    }
   ],
   "source": [
    "df['intent'].value_counts()"
   ]
  },
  {
   "cell_type": "code",
   "execution_count": null,
   "id": "287f9e88",
   "metadata": {},
   "outputs": [],
   "source": [
    "dfFiltered = filterDataframe(df)\n",
    "dfFiltered.head()"
   ]
  },
  {
   "cell_type": "code",
   "execution_count": null,
   "id": "9014f503",
   "metadata": {},
   "outputs": [],
   "source": [
    "dfFiltered.shape"
   ]
  },
  {
   "cell_type": "code",
   "execution_count": null,
   "id": "ae006590",
   "metadata": {},
   "outputs": [],
   "source": [
    "dfFiltered['intent'].value_counts()"
   ]
  },
  {
   "cell_type": "code",
   "execution_count": null,
   "id": "7296880e",
   "metadata": {},
   "outputs": [],
   "source": [
    "dfTrain, dfTest = saveTrainTestDataset(DATASET_VERSION)\n",
    "DATASETS[\"v1\"] = df\n",
    "DATATRAIN[\"v1\"] = dfTrain\n",
    "DATATEST[\"v1\"] = dfTest"
   ]
  },
  {
   "cell_type": "markdown",
   "id": "019dddd1",
   "metadata": {},
   "source": [
    "El conjunto de datos no cumple los criterios de evaluación, ya que no llega a 100 registros, sino a 91 (y con registros repetidos), y hay una notable diferencia entre el número de registros de REGISTRAR_TOMA_MEDICAMENTO (28) y REGISTRAR_DESPEDIDA (9), por lo que el conjunto **no es válido**."
   ]
  },
  {
   "cell_type": "markdown",
   "id": "0df31960",
   "metadata": {},
   "source": [
    "### 1.2. Conjunto v2\n",
    "\n",
    "Tras la generación de nuevos diálogos por parte de los usuarios y la mejora de la herramienta que genera el conjunto de datos a partir de los diálogos para que elimine registros duplicados, se procede a analizar el nuevo conjunto de datos generado."
   ]
  },
  {
   "cell_type": "code",
   "execution_count": 16,
   "id": "9a1575d4",
   "metadata": {},
   "outputs": [
    {
     "data": {
      "text/html": [
       "<div>\n",
       "<style scoped>\n",
       "    .dataframe tbody tr th:only-of-type {\n",
       "        vertical-align: middle;\n",
       "    }\n",
       "\n",
       "    .dataframe tbody tr th {\n",
       "        vertical-align: top;\n",
       "    }\n",
       "\n",
       "    .dataframe thead th {\n",
       "        text-align: right;\n",
       "    }\n",
       "</style>\n",
       "<table border=\"1\" class=\"dataframe\">\n",
       "  <thead>\n",
       "    <tr style=\"text-align: right;\">\n",
       "      <th></th>\n",
       "      <th>text</th>\n",
       "      <th>intent</th>\n",
       "    </tr>\n",
       "  </thead>\n",
       "  <tbody>\n",
       "    <tr>\n",
       "      <th>0</th>\n",
       "      <td>Espero que no se enamore de ti como en Her, au...</td>\n",
       "      <td>NO_IDENTIFICADO</td>\n",
       "    </tr>\n",
       "    <tr>\n",
       "      <th>1</th>\n",
       "      <td>Hola estoy muy sola necesito de tus consejos y...</td>\n",
       "      <td>REGISTRAR_ESTADO_EMOCIONAL</td>\n",
       "    </tr>\n",
       "    <tr>\n",
       "      <th>2</th>\n",
       "      <td>Saludos, robot!</td>\n",
       "      <td>REGISTRAR_SALUDO</td>\n",
       "    </tr>\n",
       "    <tr>\n",
       "      <th>3</th>\n",
       "      <td>Este mismo mes de junio a las 8'30 con el enfe...</td>\n",
       "      <td>REGISTRAR_CITA_MEDICA</td>\n",
       "    </tr>\n",
       "    <tr>\n",
       "      <th>4</th>\n",
       "      <td>Hola hoy Melo he pasado muy bien</td>\n",
       "      <td>REGISTRAR_ESTADO_EMOCIONAL</td>\n",
       "    </tr>\n",
       "  </tbody>\n",
       "</table>\n",
       "</div>"
      ],
      "text/plain": [
       "                                                text  \\\n",
       "0  Espero que no se enamore de ti como en Her, au...   \n",
       "1  Hola estoy muy sola necesito de tus consejos y...   \n",
       "2                                    Saludos, robot!   \n",
       "3  Este mismo mes de junio a las 8'30 con el enfe...   \n",
       "4                   Hola hoy Melo he pasado muy bien   \n",
       "\n",
       "                       intent  \n",
       "0             NO_IDENTIFICADO  \n",
       "1  REGISTRAR_ESTADO_EMOCIONAL  \n",
       "2            REGISTRAR_SALUDO  \n",
       "3       REGISTRAR_CITA_MEDICA  \n",
       "4  REGISTRAR_ESTADO_EMOCIONAL  "
      ]
     },
     "execution_count": 16,
     "metadata": {},
     "output_type": "execute_result"
    }
   ],
   "source": [
    "DATASET_VERSION = \"v2\" # Versión del conjunto de datos\n",
    "\n",
    "df = loadDataframe(DATASET_VERSION)\n",
    "df.head()"
   ]
  },
  {
   "cell_type": "code",
   "execution_count": null,
   "id": "bfacb40f",
   "metadata": {},
   "outputs": [],
   "source": [
    "df.shape"
   ]
  },
  {
   "cell_type": "code",
   "execution_count": null,
   "id": "21293d10",
   "metadata": {},
   "outputs": [],
   "source": [
    "df[\"intent\"].unique()"
   ]
  },
  {
   "cell_type": "code",
   "execution_count": null,
   "id": "4bed4825",
   "metadata": {},
   "outputs": [],
   "source": [
    "df.info()"
   ]
  },
  {
   "cell_type": "code",
   "execution_count": null,
   "id": "cc1a1db0",
   "metadata": {},
   "outputs": [],
   "source": [
    "df.describe()"
   ]
  },
  {
   "cell_type": "code",
   "execution_count": null,
   "id": "0d6b3385",
   "metadata": {},
   "outputs": [],
   "source": [
    "df[df['text']=='Hola']"
   ]
  },
  {
   "cell_type": "code",
   "execution_count": null,
   "id": "83aa2e81",
   "metadata": {},
   "outputs": [],
   "source": [
    "df['intent'].value_counts()"
   ]
  },
  {
   "cell_type": "code",
   "execution_count": null,
   "id": "fc27d0a6",
   "metadata": {},
   "outputs": [],
   "source": [
    "dfFiltered = filterDataframe(df)\n",
    "dfFiltered.head()"
   ]
  },
  {
   "cell_type": "code",
   "execution_count": null,
   "id": "3e8d1c4e",
   "metadata": {},
   "outputs": [],
   "source": [
    "dfFiltered.shape"
   ]
  },
  {
   "cell_type": "code",
   "execution_count": null,
   "id": "b565f654",
   "metadata": {},
   "outputs": [],
   "source": [
    "dfFiltered['intent'].value_counts()"
   ]
  },
  {
   "cell_type": "code",
   "execution_count": null,
   "id": "47d058b6",
   "metadata": {},
   "outputs": [],
   "source": [
    "dfTrain, dfTest = saveTrainTestDataset(DATASET_VERSION)\n",
    "DATASETS[\"v2\"] = df\n",
    "DATATRAIN[\"v2\"] = dfTrain\n",
    "DATATEST[\"v2\"] = dfTest"
   ]
  },
  {
   "cell_type": "markdown",
   "id": "1d849f4f",
   "metadata": {},
   "source": [
    "El conjunto de datos cumple los criterios de evaluación, supera los 100 registros y está balanceado, por lo tanto, **es válido**."
   ]
  },
  {
   "cell_type": "markdown",
   "id": "3e3a2628",
   "metadata": {},
   "source": [
    "### 1.3. Conjunto v3"
   ]
  },
  {
   "cell_type": "code",
   "execution_count": 41,
   "id": "80bacee9",
   "metadata": {},
   "outputs": [
    {
     "name": "stdout",
     "output_type": "stream",
     "text": [
      "-----------\n",
      "DATASET GENERATE\n",
      "-----------\n",
      "Dataset table: tfm-prod-dialogs\n",
      "Version from: v2\n",
      "Version to: v3\n",
      "Dataset v2: 236 entries\n",
      "Getting dialogs from tfm-prod-dialogs, please wait...\n",
      "Found 273 dialogs.\n",
      "too many values to unpack (expected 2)\n"
     ]
    }
   ],
   "source": [
    "DATASET_VERSION = \"v3\" # Versión del conjunto de datos\n",
    "%run -i dataset_generate.py prod \"v2\" \"v3\""
   ]
  },
  {
   "cell_type": "code",
   "execution_count": 31,
   "id": "410a7a2f",
   "metadata": {},
   "outputs": [
    {
     "data": {
      "text/html": [
       "<div>\n",
       "<style scoped>\n",
       "    .dataframe tbody tr th:only-of-type {\n",
       "        vertical-align: middle;\n",
       "    }\n",
       "\n",
       "    .dataframe tbody tr th {\n",
       "        vertical-align: top;\n",
       "    }\n",
       "\n",
       "    .dataframe thead th {\n",
       "        text-align: right;\n",
       "    }\n",
       "</style>\n",
       "<table border=\"1\" class=\"dataframe\">\n",
       "  <thead>\n",
       "    <tr style=\"text-align: right;\">\n",
       "      <th></th>\n",
       "      <th>text</th>\n",
       "      <th>intent</th>\n",
       "    </tr>\n",
       "  </thead>\n",
       "  <tbody>\n",
       "    <tr>\n",
       "      <th>0</th>\n",
       "      <td>Espero que no se enamore de ti como en Her, au...</td>\n",
       "      <td>NO_IDENTIFICADO</td>\n",
       "    </tr>\n",
       "    <tr>\n",
       "      <th>1</th>\n",
       "      <td>Hola estoy muy sola necesito de tus consejos y...</td>\n",
       "      <td>REGISTRAR_ESTADO_EMOCIONAL</td>\n",
       "    </tr>\n",
       "    <tr>\n",
       "      <th>2</th>\n",
       "      <td>Saludos, robot!</td>\n",
       "      <td>REGISTRAR_SALUDO</td>\n",
       "    </tr>\n",
       "    <tr>\n",
       "      <th>3</th>\n",
       "      <td>Este mismo mes de junio a las 8'30 con el enfe...</td>\n",
       "      <td>REGISTRAR_CITA_MEDICA</td>\n",
       "    </tr>\n",
       "    <tr>\n",
       "      <th>4</th>\n",
       "      <td>Hola hoy Melo he pasado muy bien</td>\n",
       "      <td>REGISTRAR_ESTADO_EMOCIONAL</td>\n",
       "    </tr>\n",
       "  </tbody>\n",
       "</table>\n",
       "</div>"
      ],
      "text/plain": [
       "                                                text  \\\n",
       "0  Espero que no se enamore de ti como en Her, au...   \n",
       "1  Hola estoy muy sola necesito de tus consejos y...   \n",
       "2                                    Saludos, robot!   \n",
       "3  Este mismo mes de junio a las 8'30 con el enfe...   \n",
       "4                   Hola hoy Melo he pasado muy bien   \n",
       "\n",
       "                       intent  \n",
       "0             NO_IDENTIFICADO  \n",
       "1  REGISTRAR_ESTADO_EMOCIONAL  \n",
       "2            REGISTRAR_SALUDO  \n",
       "3       REGISTRAR_CITA_MEDICA  \n",
       "4  REGISTRAR_ESTADO_EMOCIONAL  "
      ]
     },
     "execution_count": 31,
     "metadata": {},
     "output_type": "execute_result"
    }
   ],
   "source": [
    "df = loadDataframe(DATASET_VERSION)\n",
    "df.head()"
   ]
  },
  {
   "cell_type": "code",
   "execution_count": 32,
   "id": "4fb2c9cb",
   "metadata": {},
   "outputs": [
    {
     "data": {
      "text/plain": [
       "(255, 2)"
      ]
     },
     "execution_count": 32,
     "metadata": {},
     "output_type": "execute_result"
    }
   ],
   "source": [
    "df.shape"
   ]
  },
  {
   "cell_type": "code",
   "execution_count": null,
   "id": "adf9367b",
   "metadata": {},
   "outputs": [],
   "source": [
    "df[\"intent\"].unique()"
   ]
  },
  {
   "cell_type": "code",
   "execution_count": 33,
   "id": "ebfe988c",
   "metadata": {},
   "outputs": [
    {
     "name": "stdout",
     "output_type": "stream",
     "text": [
      "<class 'pandas.core.frame.DataFrame'>\n",
      "RangeIndex: 255 entries, 0 to 254\n",
      "Data columns (total 2 columns):\n",
      " #   Column  Non-Null Count  Dtype \n",
      "---  ------  --------------  ----- \n",
      " 0   text    255 non-null    object\n",
      " 1   intent  255 non-null    object\n",
      "dtypes: object(2)\n",
      "memory usage: 4.1+ KB\n"
     ]
    }
   ],
   "source": [
    "df.info()"
   ]
  },
  {
   "cell_type": "code",
   "execution_count": 34,
   "id": "f8aeeedf",
   "metadata": {},
   "outputs": [
    {
     "data": {
      "text/html": [
       "<div>\n",
       "<style scoped>\n",
       "    .dataframe tbody tr th:only-of-type {\n",
       "        vertical-align: middle;\n",
       "    }\n",
       "\n",
       "    .dataframe tbody tr th {\n",
       "        vertical-align: top;\n",
       "    }\n",
       "\n",
       "    .dataframe thead th {\n",
       "        text-align: right;\n",
       "    }\n",
       "</style>\n",
       "<table border=\"1\" class=\"dataframe\">\n",
       "  <thead>\n",
       "    <tr style=\"text-align: right;\">\n",
       "      <th></th>\n",
       "      <th>text</th>\n",
       "      <th>intent</th>\n",
       "    </tr>\n",
       "  </thead>\n",
       "  <tbody>\n",
       "    <tr>\n",
       "      <th>count</th>\n",
       "      <td>255</td>\n",
       "      <td>255</td>\n",
       "    </tr>\n",
       "    <tr>\n",
       "      <th>unique</th>\n",
       "      <td>245</td>\n",
       "      <td>25</td>\n",
       "    </tr>\n",
       "    <tr>\n",
       "      <th>top</th>\n",
       "      <td>Hola</td>\n",
       "      <td>NO_IDENTIFICADO</td>\n",
       "    </tr>\n",
       "    <tr>\n",
       "      <th>freq</th>\n",
       "      <td>4</td>\n",
       "      <td>41</td>\n",
       "    </tr>\n",
       "  </tbody>\n",
       "</table>\n",
       "</div>"
      ],
      "text/plain": [
       "        text           intent\n",
       "count    255              255\n",
       "unique   245               25\n",
       "top     Hola  NO_IDENTIFICADO\n",
       "freq       4               41"
      ]
     },
     "execution_count": 34,
     "metadata": {},
     "output_type": "execute_result"
    }
   ],
   "source": [
    "df.describe()"
   ]
  },
  {
   "cell_type": "code",
   "execution_count": 35,
   "id": "9583ca02",
   "metadata": {},
   "outputs": [
    {
     "data": {
      "text/plain": [
       "NO_IDENTIFICADO                   41\n",
       "REGISTRAR_ESTADO_EMOCIONAL        37\n",
       "REGISTRAR_TOMA_MEDICAMENTO        30\n",
       "REGISTRAR_DESPEDIDA               30\n",
       "REGISTRAR_CITA_MEDICA             29\n",
       "-                                 19\n",
       "REGISTRAR_SALUDO                  16\n",
       "REGISTRAR_SITUACION_ADVERSA       10\n",
       "REGISTRAR_ALABANZA                 7\n",
       "REGISTRAR_DOMOTICA                 5\n",
       "REGISTRAR_NECESIDAD                4\n",
       "REGISTRAR_CONFIRMACION             4\n",
       "REGISTRAR_SINTOMA                  3\n",
       "REGISTRAR_ANECDOTA                 3\n",
       "REGISTRAR_COVID                    3\n",
       "CONSULTAR_ESTADO_PERSONA_MAYOR     3\n",
       "REGISTRAR_MEDIDA_MEDICA            2\n",
       "REGISTRAR_ACTIVIDAD                2\n",
       "REGISTRAR_DUDA                     1\n",
       "RECORDAR_MEDICACION                1\n",
       "CONSULTAR_TIEMPO                   1\n",
       "REGISTRAR_TELEGRAM                 1\n",
       "REGISTRAR_RECHAZO                  1\n",
       "CONSULTAR_NUTRICION                1\n",
       "ANOTAR_TOMA_MEDICAMENTO            1\n",
       "Name: intent, dtype: int64"
      ]
     },
     "execution_count": 35,
     "metadata": {},
     "output_type": "execute_result"
    }
   ],
   "source": [
    "df['intent'].value_counts()"
   ]
  },
  {
   "cell_type": "code",
   "execution_count": 37,
   "id": "8ae9dea3",
   "metadata": {},
   "outputs": [
    {
     "data": {
      "text/html": [
       "<div>\n",
       "<style scoped>\n",
       "    .dataframe tbody tr th:only-of-type {\n",
       "        vertical-align: middle;\n",
       "    }\n",
       "\n",
       "    .dataframe tbody tr th {\n",
       "        vertical-align: top;\n",
       "    }\n",
       "\n",
       "    .dataframe thead th {\n",
       "        text-align: right;\n",
       "    }\n",
       "</style>\n",
       "<table border=\"1\" class=\"dataframe\">\n",
       "  <thead>\n",
       "    <tr style=\"text-align: right;\">\n",
       "      <th></th>\n",
       "      <th>text</th>\n",
       "      <th>intent</th>\n",
       "    </tr>\n",
       "  </thead>\n",
       "  <tbody>\n",
       "    <tr>\n",
       "      <th>1</th>\n",
       "      <td>Hola estoy muy sola necesito de tus consejos y...</td>\n",
       "      <td>REGISTRAR_ESTADO_EMOCIONAL</td>\n",
       "    </tr>\n",
       "    <tr>\n",
       "      <th>2</th>\n",
       "      <td>Saludos, robot!</td>\n",
       "      <td>REGISTRAR_SALUDO</td>\n",
       "    </tr>\n",
       "    <tr>\n",
       "      <th>3</th>\n",
       "      <td>Este mismo mes de junio a las 8'30 con el enfe...</td>\n",
       "      <td>REGISTRAR_CITA_MEDICA</td>\n",
       "    </tr>\n",
       "    <tr>\n",
       "      <th>4</th>\n",
       "      <td>Hola hoy Melo he pasado muy bien</td>\n",
       "      <td>REGISTRAR_ESTADO_EMOCIONAL</td>\n",
       "    </tr>\n",
       "    <tr>\n",
       "      <th>5</th>\n",
       "      <td>Adiós</td>\n",
       "      <td>REGISTRAR_DESPEDIDA</td>\n",
       "    </tr>\n",
       "  </tbody>\n",
       "</table>\n",
       "</div>"
      ],
      "text/plain": [
       "                                                text  \\\n",
       "1  Hola estoy muy sola necesito de tus consejos y...   \n",
       "2                                    Saludos, robot!   \n",
       "3  Este mismo mes de junio a las 8'30 con el enfe...   \n",
       "4                   Hola hoy Melo he pasado muy bien   \n",
       "5                                              Adiós   \n",
       "\n",
       "                       intent  \n",
       "1  REGISTRAR_ESTADO_EMOCIONAL  \n",
       "2            REGISTRAR_SALUDO  \n",
       "3       REGISTRAR_CITA_MEDICA  \n",
       "4  REGISTRAR_ESTADO_EMOCIONAL  \n",
       "5         REGISTRAR_DESPEDIDA  "
      ]
     },
     "execution_count": 37,
     "metadata": {},
     "output_type": "execute_result"
    }
   ],
   "source": [
    "dfFiltered = filterDataframe(df)\n",
    "dfFiltered.head()"
   ]
  },
  {
   "cell_type": "code",
   "execution_count": 38,
   "id": "c721fe20",
   "metadata": {},
   "outputs": [
    {
     "data": {
      "text/plain": [
       "(142, 2)"
      ]
     },
     "execution_count": 38,
     "metadata": {},
     "output_type": "execute_result"
    }
   ],
   "source": [
    "dfFiltered.shape"
   ]
  },
  {
   "cell_type": "code",
   "execution_count": 39,
   "id": "5976edf2",
   "metadata": {},
   "outputs": [
    {
     "data": {
      "text/plain": [
       "REGISTRAR_ESTADO_EMOCIONAL    37\n",
       "REGISTRAR_DESPEDIDA           30\n",
       "REGISTRAR_TOMA_MEDICAMENTO    30\n",
       "REGISTRAR_CITA_MEDICA         29\n",
       "REGISTRAR_SALUDO              16\n",
       "Name: intent, dtype: int64"
      ]
     },
     "execution_count": 39,
     "metadata": {},
     "output_type": "execute_result"
    }
   ],
   "source": [
    "dfFiltered['intent'].value_counts()"
   ]
  },
  {
   "cell_type": "code",
   "execution_count": 40,
   "id": "ad75a6b6",
   "metadata": {},
   "outputs": [
    {
     "name": "stdout",
     "output_type": "stream",
     "text": [
      "Saved at /home/jovyan/data/dataset/v3/data_train.json\n",
      "Saved at /home/jovyan/data/dataset/v3/data_test.json\n"
     ]
    }
   ],
   "source": [
    "dfTrain, dfTest = saveTrainTestDataset(DATASET_VERSION)\n",
    "DATASETS[\"v3\"] = df\n",
    "DATATRAIN[\"v3\"] = dfTrain\n",
    "DATATEST[\"v3\"] = dfTest"
   ]
  },
  {
   "cell_type": "markdown",
   "id": "323fd6e3",
   "metadata": {},
   "source": [
    "## 2. Entrenamiento de modelos"
   ]
  },
  {
   "cell_type": "code",
   "execution_count": null,
   "id": "061f5c75",
   "metadata": {},
   "outputs": [],
   "source": [
    "import os\n",
    "from google.cloud import dialogflow\n",
    "\n",
    "PROJECT_ID = \"***REMOVED***\"\n",
    "SESSION = \"123456789\"\n",
    "LANGUAGE_CODE = \"es\"\n",
    "\n",
    "os.environ[\"GOOGLE_APPLICATION_CREDENTIALS\"] = \"/home/jovyan/credentials/google/key.json\"\n",
    "\n",
    "def identifyIntentWithDialogflow(text):\n",
    "    session_client = dialogflow.SessionsClient()\n",
    "    session = session_client.session_path(PROJECT_ID, SESSION)\n",
    "    text_input = dialogflow.TextInput(text=text, language_code=LANGUAGE_CODE)\n",
    "    query_input = dialogflow.QueryInput(text=text_input)\n",
    "    response = session_client.detect_intent(\n",
    "        request={\"session\": session, \"query_input\": query_input}\n",
    "    )\n",
    "    intent = response.query_result.intent.display_name\n",
    "    return intent\n"
   ]
  },
  {
   "cell_type": "code",
   "execution_count": null,
   "id": "e9b72d90",
   "metadata": {},
   "outputs": [],
   "source": [
    "def getValidator(languajeModel):\n",
    "    if languajeModel == \"dialogflow\":\n",
    "        return identifyIntentWithDialogflow\n",
    "\n",
    "def validate(test, languajeModel):\n",
    "    validator = getValidator(languajeModel)\n",
    "    total = 0\n",
    "    success = 0\n",
    "    intents = ['REGISTRAR_TOMA_MEDICAMENTO', 'REGISTRAR_ESTADO_EMOCIONAL', 'REGISTRAR_CITA_MEDICA', 'REGISTRAR_SALUDO', 'REGISTRAR_DESPEDIDA']\n",
    "    for item in test:\n",
    "        expectedIntent = item[\"intent\"]\n",
    "        if expectedIntent in intents:\n",
    "            # En Google Action, el intent NO_IDENTIFICADO es el intent por defecto, que \n",
    "            # conservamos con el nombre que Google le da, por legibilidad.\n",
    "            if \"NO_IDENTIFICADO\" == expectedIntent:\n",
    "                expectedIntent = \"Default Fallback Intent\"\n",
    "            text = item[\"text\"]\n",
    "            receivedIntent = validator(text)\n",
    "            if expectedIntent == receivedIntent:\n",
    "                success += 1\n",
    "            else:\n",
    "                print(f\"FAILED: expected: {expectedIntent}, received: {receivedIntent} on text: {text}\")\n",
    "            total += 1\n",
    "    accuracy = round(success/total*100, 2)\n",
    "    return total, success, accuracy"
   ]
  },
  {
   "cell_type": "markdown",
   "id": "b3bafed0",
   "metadata": {},
   "source": [
    "### 2.1. Modelo Dialogflow: Dataset v1"
   ]
  },
  {
   "cell_type": "markdown",
   "id": "ce483c05",
   "metadata": {},
   "source": [
    "### 2.2. Modelo Dialogflow: Dataset v2"
   ]
  },
  {
   "cell_type": "code",
   "execution_count": 2,
   "id": "64bfa8e9",
   "metadata": {},
   "outputs": [
    {
     "name": "stdout",
     "output_type": "stream",
     "text": [
      "-----------\n",
      "DIALOGFLOW GENERATE\n",
      "-----------\n",
      "Dataset version: v2\n",
      "Language model: dialogflow\n",
      "Generate entities\n",
      "Generate intents\n",
      "/home/jovyan/data/dialogflow/v2/intents\n",
      "Generate agent\n",
      "/home/jovyan/data/dialogflow/v2/agent.json\n",
      "Generate package\n",
      "/home/jovyan/data/dialogflow/v2/package.json\n"
     ]
    }
   ],
   "source": [
    "DATASET_VERSION = \"v2\"\n",
    "LANGUAJE_MODEL = \"dialogflow\"\n",
    "# Versión del conjunto de datos a utilizar: v2\n",
    "%run -i dialogflow.py \"v2\""
   ]
  },
  {
   "cell_type": "markdown",
   "id": "929f7246",
   "metadata": {},
   "source": [
    "A continuación:\n",
    "\n",
    "- Eliminar todos los intents del proyecto de Dialogflow, excepto el \"DefaultFallbackIntent\".\n",
    "- Importar en el proyecto de Dialogflow el dataset generado, comprimido en .zip (no añadir model_info.json).\n",
    "- Eliminar el intent \"NO_IDENTIFICADO\", puesto que contiene textos que, por ahora, no han sido clasificados, de modo que deberían ir a \"DefaultFallbackIntent\"."
   ]
  },
  {
   "cell_type": "code",
   "execution_count": null,
   "id": "dbc5e06a",
   "metadata": {},
   "outputs": [],
   "source": [
    "test = getDataset(DATASET_VERSION, \"_test\")\n",
    "total, success, accuracy = validate(test, LANGUAJE_MODEL)\n",
    "\n",
    "print(f\"Total: {total}, success: {success}, accuracy: {accuracy}%\")"
   ]
  },
  {
   "cell_type": "markdown",
   "id": "7af11620",
   "metadata": {},
   "source": [
    "El modelo **es válido**, puesto que el criterio de evaluación exige una tasa de acierto superior al 85%, y este modelo ha alcanzado un **89.66%**."
   ]
  },
  {
   "cell_type": "code",
   "execution_count": null,
   "id": "d81d84ee",
   "metadata": {},
   "outputs": [],
   "source": []
  }
 ],
 "metadata": {
  "kernelspec": {
   "display_name": "Python 3 (ipykernel)",
   "language": "python",
   "name": "python3"
  },
  "language_info": {
   "codemirror_mode": {
    "name": "ipython",
    "version": 3
   },
   "file_extension": ".py",
   "mimetype": "text/x-python",
   "name": "python",
   "nbconvert_exporter": "python",
   "pygments_lexer": "ipython3",
   "version": "3.9.7"
  }
 },
 "nbformat": 4,
 "nbformat_minor": 5
}
