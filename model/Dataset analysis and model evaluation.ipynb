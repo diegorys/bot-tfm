{
 "cells": [
  {
   "cell_type": "markdown",
   "id": "e2467cc9",
   "metadata": {},
   "source": [
    "# ANÁLISIS DEL CONJUNTO DE DATOS Y EVALUACIÓN DEL MODELO"
   ]
  },
  {
   "cell_type": "markdown",
   "id": "0af71b96",
   "metadata": {},
   "source": [
    "## 1. Conjuntos de datos\n",
    "\n",
    "En este apartado, se describen los diferentes conjuntos de datos obtenidos en base a los diálogos. Cada registro está formado por una columna de entrada, que es el texto a clasificar, y una columna de salida, que es la intención en la que se clasifica el texto.\n",
    "\n",
    "Según se define en el apartado **4. Identificación de requisitos** de la memoria, se van a tratar las siguientes intenciones:\n",
    "\n",
    "- Registrar saludo\n",
    "- Registrar toma de medicamento\n",
    "- Registrar estado emocional\n",
    "- Registrar cita médica\n",
    "- Registrar despedida\n",
    "\n",
    "Los objetivos cubiertos son:\n",
    "- Detectar las necesidades de las personas mayores: en base al conjunto de datos etiquetado, se listan las necesidades y el número de registros que se han clasificado en cada texto. De este modo, es posible evaluar qué necesidades son las más importantes.\n",
    "- Conseguir un conjunto de datos de un mínimo de 100 registros: El objetivo es conseguir un conjunto de datos balanceado y sin duplicados de un mínimo de 100 registros de las intenciones que se van a tratar. Utilizamos sólo las intenciones que tienen más registros.\n",
    "- Conseguir accuracy 85%: lala"
   ]
  },
  {
   "cell_type": "code",
   "execution_count": null,
   "id": "019854cb",
   "metadata": {},
   "outputs": [],
   "source": [
    "import json\n",
    "import matplotlib.pyplot as plt\n",
    "import pandas as pd\n",
    "\n",
    "def getDataset(version, sufix=\"\"):\n",
    "    path = f\"/home/jovyan/data/dataset/{version}/data{sufix}.json\"\n",
    "    with open(path, 'r') as f:\n",
    "      data = json.load(f)\n",
    "    return data\n",
    "\n",
    "def getDatasetAsDictionaryText(version):\n",
    "    dataset = getDataset(version)\n",
    "    datasetDictionary = {}\n",
    "    for item in dataset:\n",
    "        datasetDictionary[item[\"text\"]] = item\n",
    "    return datasetDictionary\n",
    "\n",
    "def dataToCSV(dataset, version, sufix=\"\"):\n",
    "    entries = []\n",
    "    for entry in dataset:\n",
    "        text = entry[\"text\"]\n",
    "        intent = entry[\"intent\"]\n",
    "        entryText = f\"{text};{intent}\"\n",
    "        entries.append(entryText)\n",
    "    path = f\"/home/jovyan/data/dataset/{version}/data{sufix}.csv\"\n",
    "    with open(path,'w') as f:\n",
    "        for line in entries:\n",
    "            f.write(line)\n",
    "            f.write('\\n')\n",
    "    \n",
    "def writeCSV(entries, version, sufix=\"\"):\n",
    "    path = f\"/home/jovyan/data/dataset/{version}/data{sufix}.csv\"\n",
    "    with open(path, 'w') as f:\n",
    "      json.dump(entries, f)\n",
    "\n",
    "def loadDataframe(version, sufix=\"\"):\n",
    "    dataset = getDataset(version, sufix)\n",
    "    entries = dataToCSV(dataset, version, sufix)\n",
    "    path = f\"/home/jovyan/data/dataset/{version}/data{sufix}.csv\"\n",
    "    df = pd.read_csv(path, names=[\"text\", \"intent\"], sep=\";\")\n",
    "    return df\n",
    "\n",
    "def filterDataframe(df):\n",
    "    filteredColumns = ['REGISTRAR_TOMA_MEDICAMENTO', 'REGISTRAR_ESTADO_EMOCIONAL', 'REGISTRAR_CITA_MEDICA', 'REGISTRAR_SALUDO', 'REGISTRAR_DESPEDIDA']\n",
    "    filter = df['intent'].isin(filteredColumns)\n",
    "    dfFiltered = df[filter]\n",
    "    return dfFiltered\n",
    "\n",
    "def saveTrainTestDataset(version):\n",
    "    dataset = getDatasetAsDictionaryText(version)\n",
    "    df = loadDataframe(version)\n",
    "    train=df.sample(frac=0.8,random_state=2) #random state is a seed value\n",
    "    test=df.drop(train.index)\n",
    "    saveDF(version, train, \"train\", dataset)\n",
    "    saveDF(version, test, \"test\", dataset)\n",
    "    dfTrain = loadDataframe(DATASET_VERSION, \"_train\")\n",
    "    dfTest = loadDataframe(DATASET_VERSION, \"_test\")\n",
    "    return dfTrain, dfTest\n",
    "        \n",
    "def saveDF(version, df, split, dataset):\n",
    "    output = {}\n",
    "    for index, row in df.iterrows():\n",
    "        output[row[\"text\"]] = dataset[row[\"text\"]]\n",
    "\n",
    "    toJSON = []\n",
    "               \n",
    "    for item in output.keys():\n",
    "        toJSON.append(output[item])\n",
    "    \n",
    "\n",
    "    path = f\"/home/jovyan/data/dataset/{DATASET_VERSION}/data_{split}.json\"\n",
    "    with open(path, \"w\", encoding=\"utf-8\") as f:\n",
    "        json.dump(toJSON, f, ensure_ascii=False, indent=4)\n",
    "        print(f\"Saved at {path}\")"
   ]
  },
  {
   "cell_type": "code",
   "execution_count": null,
   "id": "d4d6ccc0",
   "metadata": {},
   "outputs": [],
   "source": [
    "DATASETS = {}\n",
    "DATATRAIN = {}\n",
    "DATATEST = {}"
   ]
  },
  {
   "cell_type": "markdown",
   "id": "97e17e5f",
   "metadata": {},
   "source": [
    "### 1.1. Conjunto v1"
   ]
  },
  {
   "cell_type": "code",
   "execution_count": null,
   "id": "e6ea5b4e",
   "metadata": {},
   "outputs": [],
   "source": [
    "DATASET_VERSION = \"v2\"\n",
    "LANGUAJE_MODEL = \"dialogflow\"\n",
    "# Versión del conjunto de datos a utilizar: v2\n",
    "%run -i python dataset_generate.py prod \"v3\""
   ]
  },
  {
   "cell_type": "code",
   "execution_count": null,
   "id": "31023a94",
   "metadata": {},
   "outputs": [],
   "source": [
    "DATASET_VERSION = \"v1\" # Versión del conjunto de datos\n",
    "df = loadDataframe(DATASET_VERSION)\n",
    "df.head()"
   ]
  },
  {
   "cell_type": "code",
   "execution_count": null,
   "id": "d733898f",
   "metadata": {},
   "outputs": [],
   "source": [
    "df.shape"
   ]
  },
  {
   "cell_type": "code",
   "execution_count": null,
   "id": "0f00d481",
   "metadata": {},
   "outputs": [],
   "source": [
    "df[\"intent\"].unique()"
   ]
  },
  {
   "cell_type": "code",
   "execution_count": null,
   "id": "a2b0ac14",
   "metadata": {},
   "outputs": [],
   "source": [
    "df.info()"
   ]
  },
  {
   "cell_type": "code",
   "execution_count": null,
   "id": "26cc3731",
   "metadata": {},
   "outputs": [],
   "source": [
    "df.describe()"
   ]
  },
  {
   "cell_type": "code",
   "execution_count": null,
   "id": "567a4550",
   "metadata": {},
   "outputs": [],
   "source": [
    "df[df['text']=='Hola']"
   ]
  },
  {
   "cell_type": "code",
   "execution_count": null,
   "id": "f95cb6cc",
   "metadata": {},
   "outputs": [],
   "source": [
    "df['intent'].value_counts()"
   ]
  },
  {
   "cell_type": "code",
   "execution_count": null,
   "id": "287f9e88",
   "metadata": {},
   "outputs": [],
   "source": [
    "dfFiltered = filterDataframe(df)\n",
    "dfFiltered.head()"
   ]
  },
  {
   "cell_type": "code",
   "execution_count": null,
   "id": "9014f503",
   "metadata": {},
   "outputs": [],
   "source": [
    "dfFiltered.shape"
   ]
  },
  {
   "cell_type": "code",
   "execution_count": null,
   "id": "ae006590",
   "metadata": {},
   "outputs": [],
   "source": [
    "dfFiltered['intent'].value_counts()"
   ]
  },
  {
   "cell_type": "code",
   "execution_count": null,
   "id": "7296880e",
   "metadata": {},
   "outputs": [],
   "source": [
    "dfTrain, dfTest = saveTrainTestDataset(DATASET_VERSION)\n",
    "DATASETS[\"v1\"] = df\n",
    "DATATRAIN[\"v1\"] = dfTrain\n",
    "DATATEST[\"v1\"] = dfTest"
   ]
  },
  {
   "cell_type": "markdown",
   "id": "019dddd1",
   "metadata": {},
   "source": [
    "El conjunto de datos no cumple los criterios de evaluación, ya que no llega a 100 registros, sino a 91 (y con registros repetidos), y hay una notable diferencia entre el número de registros de REGISTRAR_TOMA_MEDICAMENTO (28) y REGISTRAR_DESPEDIDA (9), por lo que el conjunto **no es válido**."
   ]
  },
  {
   "cell_type": "markdown",
   "id": "0df31960",
   "metadata": {},
   "source": [
    "### 1.2. Conjunto v2\n",
    "\n",
    "Tras la generación de nuevos diálogos por parte de los usuarios y la mejora de la herramienta que genera el conjunto de datos a partir de los diálogos para que elimine registros duplicados, se procede a analizar el nuevo conjunto de datos generado."
   ]
  },
  {
   "cell_type": "code",
   "execution_count": null,
   "id": "9a1575d4",
   "metadata": {},
   "outputs": [],
   "source": [
    "DATASET_VERSION = \"v2\" # Versión del conjunto de datos\n",
    "\n",
    "df = loadDataframe(DATASET_VERSION)\n",
    "df.head()"
   ]
  },
  {
   "cell_type": "code",
   "execution_count": null,
   "id": "bfacb40f",
   "metadata": {},
   "outputs": [],
   "source": [
    "df.shape"
   ]
  },
  {
   "cell_type": "code",
   "execution_count": null,
   "id": "21293d10",
   "metadata": {},
   "outputs": [],
   "source": [
    "df[\"intent\"].unique()"
   ]
  },
  {
   "cell_type": "code",
   "execution_count": null,
   "id": "4bed4825",
   "metadata": {},
   "outputs": [],
   "source": [
    "df.info()"
   ]
  },
  {
   "cell_type": "code",
   "execution_count": null,
   "id": "cc1a1db0",
   "metadata": {},
   "outputs": [],
   "source": [
    "df.describe()"
   ]
  },
  {
   "cell_type": "code",
   "execution_count": null,
   "id": "0d6b3385",
   "metadata": {},
   "outputs": [],
   "source": [
    "df[df['text']=='Hola']"
   ]
  },
  {
   "cell_type": "code",
   "execution_count": null,
   "id": "83aa2e81",
   "metadata": {},
   "outputs": [],
   "source": [
    "df['intent'].value_counts()"
   ]
  },
  {
   "cell_type": "code",
   "execution_count": null,
   "id": "015245e4",
   "metadata": {},
   "outputs": [],
   "source": [
    "filteredColumns = ['REGISTRAR_TOMA_MEDICAMENTO', 'REGISTRAR_ESTADO_EMOCIONAL', 'REGISTRAR_CITA_MEDICA', 'REGISTRAR_SALUDO', 'REGISTRAR_DESPEDIDA']\n",
    "filter = df['intent'].isin(filteredColumns)"
   ]
  },
  {
   "cell_type": "code",
   "execution_count": null,
   "id": "fc27d0a6",
   "metadata": {},
   "outputs": [],
   "source": [
    "dfFiltered = filterDataframe(df)\n",
    "dfFiltered.head()"
   ]
  },
  {
   "cell_type": "code",
   "execution_count": null,
   "id": "3e8d1c4e",
   "metadata": {},
   "outputs": [],
   "source": [
    "dfFiltered.shape"
   ]
  },
  {
   "cell_type": "code",
   "execution_count": null,
   "id": "b565f654",
   "metadata": {},
   "outputs": [],
   "source": [
    "dfFiltered['intent'].value_counts()"
   ]
  },
  {
   "cell_type": "code",
   "execution_count": null,
   "id": "47d058b6",
   "metadata": {},
   "outputs": [],
   "source": [
    "dfTrain, dfTest = saveTrainTestDataset(DATASET_VERSION)\n",
    "DATASETS[\"v2\"] = df\n",
    "DATATRAIN[\"v2\"] = dfTrain\n",
    "DATATEST[\"v2\"] = dfTest"
   ]
  },
  {
   "cell_type": "markdown",
   "id": "1d849f4f",
   "metadata": {},
   "source": [
    "El conjunto de datos cumple los criterios de evaluación, supera los 100 registros y está balanceado, por lo tanto, **es válido**."
   ]
  },
  {
   "cell_type": "markdown",
   "id": "323fd6e3",
   "metadata": {},
   "source": [
    "## 2. Entrenamiento de modelos"
   ]
  },
  {
   "cell_type": "code",
   "execution_count": null,
   "id": "061f5c75",
   "metadata": {},
   "outputs": [],
   "source": [
    "import os\n",
    "from google.cloud import dialogflow\n",
    "\n",
    "PROJECT_ID = \"***REMOVED***\"\n",
    "SESSION = \"123456789\"\n",
    "LANGUAGE_CODE = \"es\"\n",
    "\n",
    "os.environ[\"GOOGLE_APPLICATION_CREDENTIALS\"] = \"/home/jovyan/credentials/google/key.json\"\n",
    "\n",
    "def identifyIntentWithDialogflow(text):\n",
    "    session_client = dialogflow.SessionsClient()\n",
    "    session = session_client.session_path(PROJECT_ID, SESSION)\n",
    "    text_input = dialogflow.TextInput(text=text, language_code=LANGUAGE_CODE)\n",
    "    query_input = dialogflow.QueryInput(text=text_input)\n",
    "    response = session_client.detect_intent(\n",
    "        request={\"session\": session, \"query_input\": query_input}\n",
    "    )\n",
    "    intent = response.query_result.intent.display_name\n",
    "    return intent\n"
   ]
  },
  {
   "cell_type": "code",
   "execution_count": null,
   "id": "e9b72d90",
   "metadata": {},
   "outputs": [],
   "source": [
    "def getValidator(languajeModel):\n",
    "    if languajeModel == \"dialogflow\":\n",
    "        return identifyIntentWithDialogflow\n",
    "\n",
    "def validate(test, languajeModel):\n",
    "    validator = getValidator(languajeModel)\n",
    "    total = 0\n",
    "    success = 0\n",
    "    intents = ['REGISTRAR_TOMA_MEDICAMENTO', 'REGISTRAR_ESTADO_EMOCIONAL', 'REGISTRAR_CITA_MEDICA', 'REGISTRAR_SALUDO', 'REGISTRAR_DESPEDIDA']\n",
    "    for item in test:\n",
    "        expectedIntent = item[\"intent\"]\n",
    "        if expectedIntent in intents:\n",
    "            # En Google Action, el intent NO_IDENTIFICADO es el intent por defecto, que \n",
    "            # conservamos con el nombre que Google le da, por legibilidad.\n",
    "            if \"NO_IDENTIFICADO\" == expectedIntent:\n",
    "                expectedIntent = \"Default Fallback Intent\"\n",
    "            text = item[\"text\"]\n",
    "            receivedIntent = validator(text)\n",
    "            if expectedIntent == receivedIntent:\n",
    "                success += 1\n",
    "            else:\n",
    "                print(f\"FAILED: expected: {expectedIntent}, received: {receivedIntent} on text: {text}\")\n",
    "            total += 1\n",
    "    accuracy = round(success/total*100, 2)\n",
    "    return total, success, accuracy"
   ]
  },
  {
   "cell_type": "markdown",
   "id": "b3bafed0",
   "metadata": {},
   "source": [
    "### 2.1. Modelo Dialogflow: Dataset v1"
   ]
  },
  {
   "cell_type": "markdown",
   "id": "ce483c05",
   "metadata": {},
   "source": [
    "### 2.2. Modelo Dialogflow: Dataset v2"
   ]
  },
  {
   "cell_type": "code",
   "execution_count": 2,
   "id": "64bfa8e9",
   "metadata": {},
   "outputs": [
    {
     "name": "stdout",
     "output_type": "stream",
     "text": [
      "-----------\n",
      "DIALOGFLOW GENERATE\n",
      "-----------\n",
      "Dataset version: v2\n",
      "Language model: dialogflow\n",
      "Generate entities\n",
      "Generate intents\n",
      "/home/jovyan/data/dialogflow/v2/intents\n",
      "Generate agent\n",
      "/home/jovyan/data/dialogflow/v2/agent.json\n",
      "Generate package\n",
      "/home/jovyan/data/dialogflow/v2/package.json\n"
     ]
    }
   ],
   "source": [
    "DATASET_VERSION = \"v2\"\n",
    "LANGUAJE_MODEL = \"dialogflow\"\n",
    "# Versión del conjunto de datos a utilizar: v2\n",
    "%run -i dialogflow.py \"v2\""
   ]
  },
  {
   "cell_type": "markdown",
   "id": "929f7246",
   "metadata": {},
   "source": [
    "A continuación:\n",
    "\n",
    "- Eliminar todos los intents del proyecto de Dialogflow, excepto el \"DefaultFallbackIntent\".\n",
    "- Importar en el proyecto de Dialogflow el dataset generado, comprimido en .zip (no añadir model_info.json).\n",
    "- Eliminar el intent \"NO_IDENTIFICADO\", puesto que contiene textos que, por ahora, no han sido clasificados, de modo que deberían ir a \"DefaultFallbackIntent\"."
   ]
  },
  {
   "cell_type": "code",
   "execution_count": null,
   "id": "dbc5e06a",
   "metadata": {},
   "outputs": [],
   "source": [
    "test = getDataset(DATASET_VERSION, \"_test\")\n",
    "total, success, accuracy = validate(test, LANGUAJE_MODEL)\n",
    "\n",
    "print(f\"Total: {total}, success: {success}, accuracy: {accuracy}%\")"
   ]
  },
  {
   "cell_type": "markdown",
   "id": "7af11620",
   "metadata": {},
   "source": [
    "El modelo **es válido**, puesto que el criterio de evaluación exige una tasa de acierto superior al 85%, y este modelo ha alcanzado un **89.66%**."
   ]
  },
  {
   "cell_type": "code",
   "execution_count": null,
   "id": "d81d84ee",
   "metadata": {},
   "outputs": [],
   "source": []
  }
 ],
 "metadata": {
  "kernelspec": {
   "display_name": "Python 3 (ipykernel)",
   "language": "python",
   "name": "python3"
  },
  "language_info": {
   "codemirror_mode": {
    "name": "ipython",
    "version": 3
   },
   "file_extension": ".py",
   "mimetype": "text/x-python",
   "name": "python",
   "nbconvert_exporter": "python",
   "pygments_lexer": "ipython3",
   "version": "3.9.7"
  }
 },
 "nbformat": 4,
 "nbformat_minor": 5
}
