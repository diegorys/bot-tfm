{
 "cells": [
  {
   "cell_type": "markdown",
   "id": "504b7c9f",
   "metadata": {},
   "source": [
    "# CONJUNTO DE DATOS Y MODELO"
   ]
  },
  {
   "cell_type": "markdown",
   "id": "e0053fc0",
   "metadata": {},
   "source": [
    "# 1. Conjuntos de datos"
   ]
  },
  {
   "cell_type": "markdown",
   "id": "830be01a",
   "metadata": {},
   "source": [
    "# 1.1. Creación de versión del conjunto de datos"
   ]
  },
  {
   "cell_type": "code",
   "execution_count": 33,
   "id": "cb8d871e",
   "metadata": {},
   "outputs": [],
   "source": [
    "import json\n",
    "\n",
    "VERSION = \"v1\"\n",
    "\n",
    "def generate(version):\n",
    "    path = f\"/home/jovyan/data/dataset/{version}/data.json\"\n",
    "    with open(path, 'r') as f:\n",
    "      data = json.load(f)\n",
    "    return data\n",
    "\n",
    "def dataToCSV(dataset, version):\n",
    "    entries = []\n",
    "    for entry in dataset:\n",
    "        text = entry[\"text\"]\n",
    "        intent = entry[\"intent\"]\n",
    "        entryText = f\"{text};{intent}\"\n",
    "        entries.append(entryText)\n",
    "    path = f\"/home/jovyan/data/dataset/{version}/data.csv\"\n",
    "    with open(path,'w') as f:\n",
    "        for line in entries:\n",
    "            f.write(line)\n",
    "            f.write('\\n')\n",
    "    \n",
    "def writeCSV(entries, version):\n",
    "    path = f\"/home/jovyan/data/dataset/{version}/data.csv\"\n",
    "    with open(path, 'w') as f:\n",
    "      json.dump(entries, f)\n",
    "\n",
    "dataset = generate(VERSION)\n",
    "entries = dataToCSV(dataset, VERSION)"
   ]
  },
  {
   "cell_type": "markdown",
   "id": "5312afaa",
   "metadata": {},
   "source": [
    "# 1.2. Carga del conjunto de datos"
   ]
  },
  {
   "cell_type": "code",
   "execution_count": 40,
   "id": "501964ea",
   "metadata": {},
   "outputs": [
    {
     "data": {
      "text/html": [
       "<div>\n",
       "<style scoped>\n",
       "    .dataframe tbody tr th:only-of-type {\n",
       "        vertical-align: middle;\n",
       "    }\n",
       "\n",
       "    .dataframe tbody tr th {\n",
       "        vertical-align: top;\n",
       "    }\n",
       "\n",
       "    .dataframe thead th {\n",
       "        text-align: right;\n",
       "    }\n",
       "</style>\n",
       "<table border=\"1\" class=\"dataframe\">\n",
       "  <thead>\n",
       "    <tr style=\"text-align: right;\">\n",
       "      <th></th>\n",
       "      <th>text</th>\n",
       "      <th>intent</th>\n",
       "    </tr>\n",
       "  </thead>\n",
       "  <tbody>\n",
       "    <tr>\n",
       "      <th>0</th>\n",
       "      <td>Espero que no se enamore de ti como en Her, au...</td>\n",
       "      <td>NO_IDENTIFICADO</td>\n",
       "    </tr>\n",
       "    <tr>\n",
       "      <th>1</th>\n",
       "      <td>Hola estoy muy sola necesito de tus consejos y...</td>\n",
       "      <td>REGISTRAR_ESTADO_EMOCIONAL</td>\n",
       "    </tr>\n",
       "    <tr>\n",
       "      <th>2</th>\n",
       "      <td>Este mismo mes de junio a las 8'30 con el enfe...</td>\n",
       "      <td>REGISTRAR_CITA_MEDICA</td>\n",
       "    </tr>\n",
       "    <tr>\n",
       "      <th>3</th>\n",
       "      <td>Hola, he estado un poco ocupado, lo siento, in...</td>\n",
       "      <td>REGISTRAR_ESTADO_EMOCIONAL</td>\n",
       "    </tr>\n",
       "    <tr>\n",
       "      <th>4</th>\n",
       "      <td>el rinialer me toca a las 9h</td>\n",
       "      <td>REGISTRAR_TOMA_MEDICAMENTO</td>\n",
       "    </tr>\n",
       "  </tbody>\n",
       "</table>\n",
       "</div>"
      ],
      "text/plain": [
       "                                                text  \\\n",
       "0  Espero que no se enamore de ti como en Her, au...   \n",
       "1  Hola estoy muy sola necesito de tus consejos y...   \n",
       "2  Este mismo mes de junio a las 8'30 con el enfe...   \n",
       "3  Hola, he estado un poco ocupado, lo siento, in...   \n",
       "4                       el rinialer me toca a las 9h   \n",
       "\n",
       "                       intent  \n",
       "0             NO_IDENTIFICADO  \n",
       "1  REGISTRAR_ESTADO_EMOCIONAL  \n",
       "2       REGISTRAR_CITA_MEDICA  \n",
       "3  REGISTRAR_ESTADO_EMOCIONAL  \n",
       "4  REGISTRAR_TOMA_MEDICAMENTO  "
      ]
     },
     "execution_count": 40,
     "metadata": {},
     "output_type": "execute_result"
    }
   ],
   "source": [
    "import pandas as pd\n",
    "\n",
    "path = f\"/home/jovyan/data/dataset/{VERSION}/data.csv\"\n",
    "df = pd.read_csv(path, names=[\"text\", \"intent\"], sep=\";\")\n",
    "df.head()"
   ]
  },
  {
   "cell_type": "code",
   "execution_count": 41,
   "id": "d7015bc4",
   "metadata": {},
   "outputs": [
    {
     "data": {
      "text/plain": [
       "(176, 2)"
      ]
     },
     "execution_count": 41,
     "metadata": {},
     "output_type": "execute_result"
    }
   ],
   "source": [
    "df.shape"
   ]
  },
  {
   "cell_type": "code",
   "execution_count": 43,
   "id": "1ff121bd",
   "metadata": {},
   "outputs": [
    {
     "data": {
      "text/plain": [
       "array(['NO_IDENTIFICADO', 'REGISTRAR_ESTADO_EMOCIONAL',\n",
       "       'REGISTRAR_CITA_MEDICA', 'REGISTRAR_TOMA_MEDICAMENTO',\n",
       "       'REGISTRAR_NECESIDAD', 'REGISTRAR_DESPEDIDA', 'REGISTRAR_SALUDO',\n",
       "       'REGISTRAR_ALABANZA', 'REGISTRAR_CONFIRMACION',\n",
       "       'CONSULTAR_ESTADO_PERSONA_MAYOR', 'REGISTRAR_COVID',\n",
       "       'REGISTRAR_SITUACION_ADVERSA', 'ANOTAR_TOMA_MEDICAMENTO',\n",
       "       'ACTUALIZAR_TOMA_MEDICAMENTO', 'REGISTRAR_MEDIDA_MEDICA',\n",
       "       'REGISTRAR_SINTOMA', 'REGISTRAR_ANECDOTA', 'REGISTRAR_DUDA',\n",
       "       'REGISTRAR_DOMOTICA', 'RECORDAR_MEDICACION',\n",
       "       'RECORDAR_CITA_MEDICA', 'REGISTRAR_ACTIVIDAD', 'CONSULTAR_TIEMPO',\n",
       "       'REGISTRAR_TELEGRAM', 'REGISTRAR_RECHAZO', 'CONSULTAR_NUTRICION'],\n",
       "      dtype=object)"
      ]
     },
     "execution_count": 43,
     "metadata": {},
     "output_type": "execute_result"
    }
   ],
   "source": [
    "df[\"intent\"].unique()"
   ]
  },
  {
   "cell_type": "code",
   "execution_count": 44,
   "id": "fa48e20c",
   "metadata": {},
   "outputs": [
    {
     "name": "stdout",
     "output_type": "stream",
     "text": [
      "<class 'pandas.core.frame.DataFrame'>\n",
      "RangeIndex: 176 entries, 0 to 175\n",
      "Data columns (total 2 columns):\n",
      " #   Column  Non-Null Count  Dtype \n",
      "---  ------  --------------  ----- \n",
      " 0   text    176 non-null    object\n",
      " 1   intent  176 non-null    object\n",
      "dtypes: object(2)\n",
      "memory usage: 2.9+ KB\n"
     ]
    }
   ],
   "source": [
    "df.info()"
   ]
  },
  {
   "cell_type": "markdown",
   "id": "3c47c36c",
   "metadata": {},
   "source": [
    "# 2. Modelos"
   ]
  },
  {
   "cell_type": "code",
   "execution_count": null,
   "id": "9e2fa52c",
   "metadata": {},
   "outputs": [],
   "source": []
  }
 ],
 "metadata": {
  "kernelspec": {
   "display_name": "Python 3 (ipykernel)",
   "language": "python",
   "name": "python3"
  },
  "language_info": {
   "codemirror_mode": {
    "name": "ipython",
    "version": 3
   },
   "file_extension": ".py",
   "mimetype": "text/x-python",
   "name": "python",
   "nbconvert_exporter": "python",
   "pygments_lexer": "ipython3",
   "version": "3.9.7"
  }
 },
 "nbformat": 4,
 "nbformat_minor": 5
}
