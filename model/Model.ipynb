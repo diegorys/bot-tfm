{
 "cells": [
  {
   "cell_type": "markdown",
   "id": "94ddf2e1",
   "metadata": {},
   "source": [
    "# CONJUNTO DE DATOS Y MODELO"
   ]
  },
  {
   "cell_type": "code",
   "execution_count": 48,
   "id": "a6167951",
   "metadata": {},
   "outputs": [],
   "source": [
    "import json\n",
    "import matplotlib.pyplot as plt\n",
    "\n",
    "DATASET_VERSION = \"v1\" # Versión del conjunto de datos\n",
    "MODEL_VERSION = \"v1\" # Versión del modelo"
   ]
  },
  {
   "cell_type": "markdown",
   "id": "385d9763",
   "metadata": {},
   "source": [
    "# 1. Conjuntos de datos"
   ]
  },
  {
   "cell_type": "markdown",
   "id": "7df86a24",
   "metadata": {},
   "source": [
    "# 1.1. Creación de versión del conjunto de datos"
   ]
  },
  {
   "cell_type": "code",
   "execution_count": 49,
   "id": "b1ed9684",
   "metadata": {},
   "outputs": [],
   "source": [
    "\n",
    "\n",
    "def generate(version):\n",
    "    path = f\"/home/jovyan/data/dataset/{version}/data.json\"\n",
    "    with open(path, 'r') as f:\n",
    "      data = json.load(f)\n",
    "    return data\n",
    "\n",
    "def dataToCSV(dataset, version):\n",
    "    entries = []\n",
    "    for entry in dataset:\n",
    "        text = entry[\"text\"]\n",
    "        intent = entry[\"intent\"]\n",
    "        entryText = f\"{text};{intent}\"\n",
    "        entries.append(entryText)\n",
    "    path = f\"/home/jovyan/data/dataset/{version}/data.csv\"\n",
    "    with open(path,'w') as f:\n",
    "        for line in entries:\n",
    "            f.write(line)\n",
    "            f.write('\\n')\n",
    "    \n",
    "def writeCSV(entries, version):\n",
    "    path = f\"/home/jovyan/data/dataset/{version}/data.csv\"\n",
    "    with open(path, 'w') as f:\n",
    "      json.dump(entries, f)\n",
    "\n",
    "dataset = generate(DATASET_VERSION)\n",
    "entries = dataToCSV(dataset, DATASET_VERSION)"
   ]
  },
  {
   "cell_type": "markdown",
   "id": "170b5e54",
   "metadata": {},
   "source": [
    "# 1.2. Carga del conjunto de datos"
   ]
  },
  {
   "cell_type": "code",
   "execution_count": 50,
   "id": "80c84d98",
   "metadata": {},
   "outputs": [
    {
     "data": {
      "text/html": [
       "<div>\n",
       "<style scoped>\n",
       "    .dataframe tbody tr th:only-of-type {\n",
       "        vertical-align: middle;\n",
       "    }\n",
       "\n",
       "    .dataframe tbody tr th {\n",
       "        vertical-align: top;\n",
       "    }\n",
       "\n",
       "    .dataframe thead th {\n",
       "        text-align: right;\n",
       "    }\n",
       "</style>\n",
       "<table border=\"1\" class=\"dataframe\">\n",
       "  <thead>\n",
       "    <tr style=\"text-align: right;\">\n",
       "      <th></th>\n",
       "      <th>text</th>\n",
       "      <th>intent</th>\n",
       "    </tr>\n",
       "  </thead>\n",
       "  <tbody>\n",
       "    <tr>\n",
       "      <th>0</th>\n",
       "      <td>Espero que no se enamore de ti como en Her, au...</td>\n",
       "      <td>NO_IDENTIFICADO</td>\n",
       "    </tr>\n",
       "    <tr>\n",
       "      <th>1</th>\n",
       "      <td>Hola estoy muy sola necesito de tus consejos y...</td>\n",
       "      <td>REGISTRAR_ESTADO_EMOCIONAL</td>\n",
       "    </tr>\n",
       "    <tr>\n",
       "      <th>2</th>\n",
       "      <td>Este mismo mes de junio a las 8'30 con el enfe...</td>\n",
       "      <td>REGISTRAR_CITA_MEDICA</td>\n",
       "    </tr>\n",
       "    <tr>\n",
       "      <th>3</th>\n",
       "      <td>Hola, he estado un poco ocupado, lo siento, in...</td>\n",
       "      <td>REGISTRAR_ESTADO_EMOCIONAL</td>\n",
       "    </tr>\n",
       "    <tr>\n",
       "      <th>4</th>\n",
       "      <td>el rinialer me toca a las 9h</td>\n",
       "      <td>REGISTRAR_TOMA_MEDICAMENTO</td>\n",
       "    </tr>\n",
       "  </tbody>\n",
       "</table>\n",
       "</div>"
      ],
      "text/plain": [
       "                                                text  \\\n",
       "0  Espero que no se enamore de ti como en Her, au...   \n",
       "1  Hola estoy muy sola necesito de tus consejos y...   \n",
       "2  Este mismo mes de junio a las 8'30 con el enfe...   \n",
       "3  Hola, he estado un poco ocupado, lo siento, in...   \n",
       "4                       el rinialer me toca a las 9h   \n",
       "\n",
       "                       intent  \n",
       "0             NO_IDENTIFICADO  \n",
       "1  REGISTRAR_ESTADO_EMOCIONAL  \n",
       "2       REGISTRAR_CITA_MEDICA  \n",
       "3  REGISTRAR_ESTADO_EMOCIONAL  \n",
       "4  REGISTRAR_TOMA_MEDICAMENTO  "
      ]
     },
     "execution_count": 50,
     "metadata": {},
     "output_type": "execute_result"
    }
   ],
   "source": [
    "import pandas as pd\n",
    "\n",
    "path = f\"/home/jovyan/data/dataset/{DATASET_VERSION}/data.csv\"\n",
    "df = pd.read_csv(path, names=[\"text\", \"intent\"], sep=\";\")\n",
    "df.head()"
   ]
  },
  {
   "cell_type": "code",
   "execution_count": 51,
   "id": "c1a81174",
   "metadata": {},
   "outputs": [
    {
     "data": {
      "text/plain": [
       "(176, 2)"
      ]
     },
     "execution_count": 51,
     "metadata": {},
     "output_type": "execute_result"
    }
   ],
   "source": [
    "df.shape"
   ]
  },
  {
   "cell_type": "code",
   "execution_count": 52,
   "id": "07763fe3",
   "metadata": {},
   "outputs": [
    {
     "data": {
      "text/plain": [
       "array(['NO_IDENTIFICADO', 'REGISTRAR_ESTADO_EMOCIONAL',\n",
       "       'REGISTRAR_CITA_MEDICA', 'REGISTRAR_TOMA_MEDICAMENTO',\n",
       "       'REGISTRAR_NECESIDAD', 'REGISTRAR_DESPEDIDA', 'REGISTRAR_SALUDO',\n",
       "       'REGISTRAR_ALABANZA', 'REGISTRAR_CONFIRMACION',\n",
       "       'CONSULTAR_ESTADO_PERSONA_MAYOR', 'REGISTRAR_COVID',\n",
       "       'REGISTRAR_SITUACION_ADVERSA', 'ANOTAR_TOMA_MEDICAMENTO',\n",
       "       'ACTUALIZAR_TOMA_MEDICAMENTO', 'REGISTRAR_MEDIDA_MEDICA',\n",
       "       'REGISTRAR_SINTOMA', 'REGISTRAR_ANECDOTA', 'REGISTRAR_DUDA',\n",
       "       'REGISTRAR_DOMOTICA', 'RECORDAR_MEDICACION',\n",
       "       'RECORDAR_CITA_MEDICA', 'REGISTRAR_ACTIVIDAD', 'CONSULTAR_TIEMPO',\n",
       "       'REGISTRAR_TELEGRAM', 'REGISTRAR_RECHAZO', 'CONSULTAR_NUTRICION'],\n",
       "      dtype=object)"
      ]
     },
     "execution_count": 52,
     "metadata": {},
     "output_type": "execute_result"
    }
   ],
   "source": [
    "df[\"intent\"].unique()"
   ]
  },
  {
   "cell_type": "code",
   "execution_count": 53,
   "id": "c729b6bd",
   "metadata": {},
   "outputs": [
    {
     "name": "stdout",
     "output_type": "stream",
     "text": [
      "<class 'pandas.core.frame.DataFrame'>\n",
      "RangeIndex: 176 entries, 0 to 175\n",
      "Data columns (total 2 columns):\n",
      " #   Column  Non-Null Count  Dtype \n",
      "---  ------  --------------  ----- \n",
      " 0   text    176 non-null    object\n",
      " 1   intent  176 non-null    object\n",
      "dtypes: object(2)\n",
      "memory usage: 2.9+ KB\n"
     ]
    }
   ],
   "source": [
    "df.info()"
   ]
  },
  {
   "cell_type": "code",
   "execution_count": 54,
   "id": "1d4eb9a6",
   "metadata": {},
   "outputs": [
    {
     "data": {
      "text/html": [
       "<div>\n",
       "<style scoped>\n",
       "    .dataframe tbody tr th:only-of-type {\n",
       "        vertical-align: middle;\n",
       "    }\n",
       "\n",
       "    .dataframe tbody tr th {\n",
       "        vertical-align: top;\n",
       "    }\n",
       "\n",
       "    .dataframe thead th {\n",
       "        text-align: right;\n",
       "    }\n",
       "</style>\n",
       "<table border=\"1\" class=\"dataframe\">\n",
       "  <thead>\n",
       "    <tr style=\"text-align: right;\">\n",
       "      <th></th>\n",
       "      <th>text</th>\n",
       "      <th>intent</th>\n",
       "    </tr>\n",
       "  </thead>\n",
       "  <tbody>\n",
       "    <tr>\n",
       "      <th>count</th>\n",
       "      <td>176</td>\n",
       "      <td>176</td>\n",
       "    </tr>\n",
       "    <tr>\n",
       "      <th>unique</th>\n",
       "      <td>172</td>\n",
       "      <td>26</td>\n",
       "    </tr>\n",
       "    <tr>\n",
       "      <th>top</th>\n",
       "      <td>Hola</td>\n",
       "      <td>NO_IDENTIFICADO</td>\n",
       "    </tr>\n",
       "    <tr>\n",
       "      <th>freq</th>\n",
       "      <td>3</td>\n",
       "      <td>35</td>\n",
       "    </tr>\n",
       "  </tbody>\n",
       "</table>\n",
       "</div>"
      ],
      "text/plain": [
       "        text           intent\n",
       "count    176              176\n",
       "unique   172               26\n",
       "top     Hola  NO_IDENTIFICADO\n",
       "freq       3               35"
      ]
     },
     "execution_count": 54,
     "metadata": {},
     "output_type": "execute_result"
    }
   ],
   "source": [
    "df.describe()"
   ]
  },
  {
   "cell_type": "code",
   "execution_count": 83,
   "id": "51bf9b33",
   "metadata": {},
   "outputs": [
    {
     "data": {
      "text/html": [
       "<div>\n",
       "<style scoped>\n",
       "    .dataframe tbody tr th:only-of-type {\n",
       "        vertical-align: middle;\n",
       "    }\n",
       "\n",
       "    .dataframe tbody tr th {\n",
       "        vertical-align: top;\n",
       "    }\n",
       "\n",
       "    .dataframe thead th {\n",
       "        text-align: right;\n",
       "    }\n",
       "</style>\n",
       "<table border=\"1\" class=\"dataframe\">\n",
       "  <thead>\n",
       "    <tr style=\"text-align: right;\">\n",
       "      <th></th>\n",
       "      <th>text</th>\n",
       "      <th>intent</th>\n",
       "    </tr>\n",
       "  </thead>\n",
       "  <tbody>\n",
       "    <tr>\n",
       "      <th>16</th>\n",
       "      <td>Hola</td>\n",
       "      <td>REGISTRAR_SALUDO</td>\n",
       "    </tr>\n",
       "    <tr>\n",
       "      <th>136</th>\n",
       "      <td>Hola</td>\n",
       "      <td>REGISTRAR_SALUDO</td>\n",
       "    </tr>\n",
       "    <tr>\n",
       "      <th>161</th>\n",
       "      <td>Hola</td>\n",
       "      <td>REGISTRAR_SALUDO</td>\n",
       "    </tr>\n",
       "  </tbody>\n",
       "</table>\n",
       "</div>"
      ],
      "text/plain": [
       "     text            intent\n",
       "16   Hola  REGISTRAR_SALUDO\n",
       "136  Hola  REGISTRAR_SALUDO\n",
       "161  Hola  REGISTRAR_SALUDO"
      ]
     },
     "execution_count": 83,
     "metadata": {},
     "output_type": "execute_result"
    }
   ],
   "source": [
    "df[df['text']=='Hola']"
   ]
  },
  {
   "cell_type": "code",
   "execution_count": 58,
   "id": "079d9fd5",
   "metadata": {},
   "outputs": [
    {
     "data": {
      "text/plain": [
       "NO_IDENTIFICADO                   35\n",
       "REGISTRAR_TOMA_MEDICAMENTO        28\n",
       "REGISTRAR_ESTADO_EMOCIONAL        26\n",
       "REGISTRAR_CITA_MEDICA             17\n",
       "REGISTRAR_SALUDO                  11\n",
       "REGISTRAR_DESPEDIDA                9\n",
       "REGISTRAR_ALABANZA                 7\n",
       "REGISTRAR_SITUACION_ADVERSA        6\n",
       "REGISTRAR_DOMOTICA                 5\n",
       "REGISTRAR_NECESIDAD                4\n",
       "REGISTRAR_CONFIRMACION             4\n",
       "REGISTRAR_ANECDOTA                 3\n",
       "REGISTRAR_COVID                    3\n",
       "CONSULTAR_ESTADO_PERSONA_MAYOR     3\n",
       "REGISTRAR_MEDIDA_MEDICA            2\n",
       "REGISTRAR_SINTOMA                  2\n",
       "REGISTRAR_ACTIVIDAD                2\n",
       "REGISTRAR_RECHAZO                  1\n",
       "REGISTRAR_TELEGRAM                 1\n",
       "CONSULTAR_TIEMPO                   1\n",
       "ACTUALIZAR_TOMA_MEDICAMENTO        1\n",
       "RECORDAR_CITA_MEDICA               1\n",
       "RECORDAR_MEDICACION                1\n",
       "REGISTRAR_DUDA                     1\n",
       "ANOTAR_TOMA_MEDICAMENTO            1\n",
       "CONSULTAR_NUTRICION                1\n",
       "Name: intent, dtype: int64"
      ]
     },
     "execution_count": 58,
     "metadata": {},
     "output_type": "execute_result"
    }
   ],
   "source": [
    "df['intent'].value_counts()"
   ]
  },
  {
   "cell_type": "code",
   "execution_count": 76,
   "id": "ad529220",
   "metadata": {},
   "outputs": [],
   "source": [
    "filteredColumns = ['REGISTRAR_TOMA_MEDICAMENTO', 'REGISTRAR_ESTADO_EMOCIONAL', 'REGISTRAR_CITA_MEDICA', 'REGISTRAR_SALUDO', 'REGISTRAR_DESPEDIDA']\n",
    "filter = df['intent'].isin(filteredColumns)"
   ]
  },
  {
   "cell_type": "code",
   "execution_count": 79,
   "id": "eee4a453",
   "metadata": {},
   "outputs": [
    {
     "data": {
      "text/html": [
       "<div>\n",
       "<style scoped>\n",
       "    .dataframe tbody tr th:only-of-type {\n",
       "        vertical-align: middle;\n",
       "    }\n",
       "\n",
       "    .dataframe tbody tr th {\n",
       "        vertical-align: top;\n",
       "    }\n",
       "\n",
       "    .dataframe thead th {\n",
       "        text-align: right;\n",
       "    }\n",
       "</style>\n",
       "<table border=\"1\" class=\"dataframe\">\n",
       "  <thead>\n",
       "    <tr style=\"text-align: right;\">\n",
       "      <th></th>\n",
       "      <th>text</th>\n",
       "      <th>intent</th>\n",
       "    </tr>\n",
       "  </thead>\n",
       "  <tbody>\n",
       "    <tr>\n",
       "      <th>1</th>\n",
       "      <td>Hola estoy muy sola necesito de tus consejos y...</td>\n",
       "      <td>REGISTRAR_ESTADO_EMOCIONAL</td>\n",
       "    </tr>\n",
       "    <tr>\n",
       "      <th>2</th>\n",
       "      <td>Este mismo mes de junio a las 8'30 con el enfe...</td>\n",
       "      <td>REGISTRAR_CITA_MEDICA</td>\n",
       "    </tr>\n",
       "    <tr>\n",
       "      <th>3</th>\n",
       "      <td>Hola, he estado un poco ocupado, lo siento, in...</td>\n",
       "      <td>REGISTRAR_ESTADO_EMOCIONAL</td>\n",
       "    </tr>\n",
       "    <tr>\n",
       "      <th>4</th>\n",
       "      <td>el rinialer me toca a las 9h</td>\n",
       "      <td>REGISTRAR_TOMA_MEDICAMENTO</td>\n",
       "    </tr>\n",
       "    <tr>\n",
       "      <th>6</th>\n",
       "      <td>Ahora voy a cenar luego hablamos 😊😊</td>\n",
       "      <td>REGISTRAR_DESPEDIDA</td>\n",
       "    </tr>\n",
       "  </tbody>\n",
       "</table>\n",
       "</div>"
      ],
      "text/plain": [
       "                                                text  \\\n",
       "1  Hola estoy muy sola necesito de tus consejos y...   \n",
       "2  Este mismo mes de junio a las 8'30 con el enfe...   \n",
       "3  Hola, he estado un poco ocupado, lo siento, in...   \n",
       "4                       el rinialer me toca a las 9h   \n",
       "6                Ahora voy a cenar luego hablamos 😊😊   \n",
       "\n",
       "                       intent  \n",
       "1  REGISTRAR_ESTADO_EMOCIONAL  \n",
       "2       REGISTRAR_CITA_MEDICA  \n",
       "3  REGISTRAR_ESTADO_EMOCIONAL  \n",
       "4  REGISTRAR_TOMA_MEDICAMENTO  \n",
       "6         REGISTRAR_DESPEDIDA  "
      ]
     },
     "execution_count": 79,
     "metadata": {},
     "output_type": "execute_result"
    }
   ],
   "source": [
    "dfFiltered = df[filter]\n",
    "dfFiltered.head()"
   ]
  },
  {
   "cell_type": "code",
   "execution_count": 81,
   "id": "241a93c6",
   "metadata": {},
   "outputs": [
    {
     "data": {
      "text/plain": [
       "(91, 2)"
      ]
     },
     "execution_count": 81,
     "metadata": {},
     "output_type": "execute_result"
    }
   ],
   "source": [
    "dfFiltered.shape"
   ]
  },
  {
   "cell_type": "markdown",
   "id": "35963d47",
   "metadata": {},
   "source": [
    "# 2. Modelos"
   ]
  },
  {
   "cell_type": "code",
   "execution_count": null,
   "id": "1308ab46",
   "metadata": {},
   "outputs": [],
   "source": []
  }
 ],
 "metadata": {
  "kernelspec": {
   "display_name": "Python 3 (ipykernel)",
   "language": "python",
   "name": "python3"
  },
  "language_info": {
   "codemirror_mode": {
    "name": "ipython",
    "version": 3
   },
   "file_extension": ".py",
   "mimetype": "text/x-python",
   "name": "python",
   "nbconvert_exporter": "python",
   "pygments_lexer": "ipython3",
   "version": "3.9.7"
  }
 },
 "nbformat": 4,
 "nbformat_minor": 5
}
