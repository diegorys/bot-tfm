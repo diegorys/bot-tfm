{
 "cells": [
  {
   "cell_type": "code",
   "execution_count": 9,
   "id": "aa48124b",
   "metadata": {},
   "outputs": [
    {
     "ename": "ModuleNotFoundError",
     "evalue": "No module named 'dataset.services'",
     "output_type": "error",
     "traceback": [
      "\u001b[0;31m---------------------------------------------------------------------------\u001b[0m",
      "\u001b[0;31mModuleNotFoundError\u001b[0m                       Traceback (most recent call last)",
      "\u001b[0;32m/tmp/ipykernel_348/1277848337.py\u001b[0m in \u001b[0;36m<module>\u001b[0;34m\u001b[0m\n\u001b[1;32m     10\u001b[0m     \u001b[0msys\u001b[0m\u001b[0;34m.\u001b[0m\u001b[0mpath\u001b[0m\u001b[0;34m.\u001b[0m\u001b[0mappend\u001b[0m\u001b[0;34m(\u001b[0m\u001b[0mmodule_path\u001b[0m\u001b[0;34m)\u001b[0m\u001b[0;34m\u001b[0m\u001b[0;34m\u001b[0m\u001b[0m\n\u001b[1;32m     11\u001b[0m \u001b[0;34m\u001b[0m\u001b[0m\n\u001b[0;32m---> 12\u001b[0;31m \u001b[0;32mfrom\u001b[0m \u001b[0mdataset\u001b[0m\u001b[0;34m.\u001b[0m\u001b[0mservices\u001b[0m\u001b[0;34m.\u001b[0m\u001b[0mgenerate_service\u001b[0m \u001b[0;32mimport\u001b[0m \u001b[0mGenerateService\u001b[0m\u001b[0;34m\u001b[0m\u001b[0;34m\u001b[0m\u001b[0m\n\u001b[0m\u001b[1;32m     13\u001b[0m \u001b[0;32mfrom\u001b[0m \u001b[0minfrastructure\u001b[0m\u001b[0;34m.\u001b[0m\u001b[0mdynamodb\u001b[0m\u001b[0;34m.\u001b[0m\u001b[0mdynamodb_dataset_repository\u001b[0m \u001b[0;32mimport\u001b[0m \u001b[0mDynamoDBDatasetRepository\u001b[0m\u001b[0;34m\u001b[0m\u001b[0;34m\u001b[0m\u001b[0m\n\u001b[1;32m     14\u001b[0m \u001b[0;32mfrom\u001b[0m \u001b[0minfrastructure\u001b[0m\u001b[0;34m.\u001b[0m\u001b[0mdynamodb\u001b[0m\u001b[0;34m.\u001b[0m\u001b[0mdynamodb_dialog_repository\u001b[0m \u001b[0;32mimport\u001b[0m \u001b[0mDynamoDBDialogRepository\u001b[0m\u001b[0;34m\u001b[0m\u001b[0;34m\u001b[0m\u001b[0m\n",
      "\u001b[0;31mModuleNotFoundError\u001b[0m: No module named 'dataset.services'"
     ]
    }
   ],
   "source": [
    "import os\n",
    "import sys\n",
    "import json\n",
    "\n",
    "from dataset.services.generate_service import GenerateService\n",
    "from infrastructure.dynamodb.dynamodb_dataset_repository import DynamoDBDatasetRepository\n",
    "from infrastructure.dynamodb.dynamodb_dialog_repository import DynamoDBDialogRepository\n",
    "\n",
    "environment = \"test\"\n",
    "os.environ[\"DIALOGS_TABLE\"] = f\"tfm-{environment}-dialogs\"\n",
    "os.environ[\"DATASET_TABLE\"] = f\"tfm-{environment}-dataset\"\n",
    "\n",
    "repositoryDialog = DynamoDBDialogRepository()\n",
    "repositoryDataset = DynamoDBDatasetRepository()\n",
    "generateService = GenerateService(repositoryDialog, repositoryDataset)\n",
    "\n",
    "print(\"GENERATE DATASET\")\n",
    "output = generateService.execute()\n",
    "print(f\"Generated {len(output)} entries.\")\n",
    "\n",
    "with open(\"/data/dataset/trunk/data.json\", \"w\", encoding=\"utf-8\") as f:\n",
    "    json.dump(output, f, ensure_ascii=False, indent=4)\n",
    "\n",
    "print(\"Saved at /data/dataset/trunk/data.json\")\n"
   ]
  },
  {
   "cell_type": "code",
   "execution_count": 6,
   "id": "c34aa440",
   "metadata": {},
   "outputs": [
    {
     "name": "stdout",
     "output_type": "stream",
     "text": [
      "['/home/jovyan/app', '/opt/conda/lib/python39.zip', '/opt/conda/lib/python3.9', '/opt/conda/lib/python3.9/lib-dynload', '', '/opt/conda/lib/python3.9/site-packages', '/opt/conda/lib/python3.9/site-packages/IPython/extensions', '/home/jovyan/.ipython', './dataset', './', './dataset', './dataset']\n"
     ]
    }
   ],
   "source": [
    "print(sys.path)"
   ]
  },
  {
   "cell_type": "code",
   "execution_count": null,
   "id": "e6018fea",
   "metadata": {},
   "outputs": [],
   "source": []
  }
 ],
 "metadata": {
  "kernelspec": {
   "display_name": "Python 3 (ipykernel)",
   "language": "python",
   "name": "python3"
  },
  "language_info": {
   "codemirror_mode": {
    "name": "ipython",
    "version": 3
   },
   "file_extension": ".py",
   "mimetype": "text/x-python",
   "name": "python",
   "nbconvert_exporter": "python",
   "pygments_lexer": "ipython3",
   "version": "3.9.7"
  }
 },
 "nbformat": 4,
 "nbformat_minor": 5
}
