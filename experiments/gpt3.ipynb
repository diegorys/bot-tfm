{
 "cells": [
  {
   "cell_type": "markdown",
   "id": "29ce86fc",
   "metadata": {},
   "source": [
    "# GPT-3\n",
    "\n",
    "## ¿Qué es?\n",
    "\n",
    "## ¿Cómo lo instalo?\n",
    "\n",
    "Lo primero es registrarse aquí:\n",
    "\n",
    "https://beta.openai.com/\n",
    "\n",
    "Desde [Playground](https://beta.openai.com/playground/) podemos resolver diferentes tipos de problema.\n",
    "\n",
    "A continuación, se debe generar un **API-Key**:\n",
    "\n",
    "https://beta.openai.com/account/api-keys\n",
    "\n",
    "Apuntar el **API-Key** generado.\n",
    "\n",
    "A continuación, instalar el paquete **openapi**:\n",
    "\n",
    "```python\n",
    "pip install openai\n",
    "```"
   ]
  },
  {
   "cell_type": "markdown",
   "id": "3035d440",
   "metadata": {},
   "source": [
    "## ¿Qué puedo hacer?"
   ]
  },
  {
   "cell_type": "code",
   "execution_count": 1,
   "id": "41312b69",
   "metadata": {},
   "outputs": [],
   "source": [
    "import os\n",
    "import openai\n",
    "openai.api_key = os.getenv(\"OPENAI_API_KEY\")"
   ]
  },
  {
   "cell_type": "code",
   "execution_count": 2,
   "id": "f0bc4e7d",
   "metadata": {},
   "outputs": [
    {
     "data": {
      "text/plain": [
       "<OpenAIObject text_completion id=cmpl-4pMICnGhdTg7gmd5k8xtqcjjWp6LJ at 0x7fc3ed2b22c0> JSON: {\n",
       "  \"choices\": [\n",
       "    {\n",
       "      \"finish_reason\": \"stop\",\n",
       "      \"index\": 0,\n",
       "      \"logprobs\": null,\n",
       "      \"text\": \" Paris\"\n",
       "    }\n",
       "  ],\n",
       "  \"created\": 1648145768,\n",
       "  \"id\": \"cmpl-4pMICnGhdTg7gmd5k8xtqcjjWp6LJ\",\n",
       "  \"model\": \"davinci:2020-05-03\",\n",
       "  \"object\": \"text_completion\"\n",
       "}"
      ]
     },
     "execution_count": 2,
     "metadata": {},
     "output_type": "execute_result"
    }
   ],
   "source": [
    "response = openai.Completion.create(\n",
    "    engine=\"davinci\",\n",
    "    prompt=\"q: What is the capital of france?\\na:\",\n",
    "    stop = \"\\n\",\n",
    "    temperature=0\n",
    ")\n",
    "response"
   ]
  },
  {
   "cell_type": "markdown",
   "id": "4be661ac",
   "metadata": {},
   "source": [
    "## Un ejemplo en español"
   ]
  },
  {
   "cell_type": "code",
   "execution_count": 3,
   "id": "ddec33c9",
   "metadata": {},
   "outputs": [
    {
     "data": {
      "text/plain": [
       "'2_ojos'"
      ]
     },
     "execution_count": 3,
     "metadata": {},
     "output_type": "execute_result"
    }
   ],
   "source": [
    "examples = \"Tengo 2 ojos|2_ojos\\nEl cuerpo tiene una nariz|1_nariz\"\n",
    "request = \"tengo dos ojos\"\n",
    "prompt = examples + \"\\n\" + request + \"|\"\n",
    "restart_sequence = \"\\n\"\n",
    "response = openai.Completion.create(\n",
    "  engine=\"davinci\",\n",
    "  prompt=prompt,\n",
    "  temperature=0,\n",
    "  max_tokens=30,\n",
    "  top_p=1,\n",
    "  frequency_penalty=0,\n",
    "  presence_penalty=0,\n",
    "  logprobs=5,\n",
    "  stop=[\"\\n\"]\n",
    ")\n",
    "response[\"choices\"][0][\"text\"]"
   ]
  },
  {
   "cell_type": "markdown",
   "id": "4fe23f34",
   "metadata": {},
   "source": [
    "## Parámetros:\n",
    "- Engine: motor.\n",
    "- Prompt: datos de entrenamiento (conversación).\n",
    "- Temperature: 0 para que sólo dé una respuesta certera, 1 para que sea imaginativo.\n",
    "- max_tokens: número máximo de tokens posibles en la respuesta final.\n",
    "- top_p:\n",
    "- frecuency_penalty:\n",
    "- presence_penalty:\n",
    "- logprobs: calcula las prioridades.\n",
    "- stop: stop words."
   ]
  },
  {
   "cell_type": "markdown",
   "id": "8b0f7987",
   "metadata": {},
   "source": [
    "### Probabilidades\n",
    "\n",
    "Calcular la probabilidad de cada posible respuesta. En base a ello, podemos establecer un mínimo para decir si se entiende o no. Se calcula e^x para obtener el porcentaje."
   ]
  },
  {
   "cell_type": "code",
   "execution_count": 4,
   "id": "acb1e770",
   "metadata": {},
   "outputs": [
    {
     "name": "stdout",
     "output_type": "stream",
     "text": [
      "8\n",
      "[<OpenAIObject at 0x7fc3d8fafbd0> JSON: {\n",
      "  \"1\": -2.9096217,\n",
      "  \"2\": -0.15911461,\n",
      "  \"3\": -4.978538,\n",
      "  \"_\": -5.1081195,\n",
      "  \"dos\": -3.8838499\n",
      "}, <OpenAIObject at 0x7fc3d8145630> JSON: {\n",
      "  \"\\n\": -7.0175776,\n",
      "  \" o\": -5.9011803,\n",
      "  \"+\": -6.5250506,\n",
      "  \"-\": -5.229137,\n",
      "  \"_\": -0.016986871\n",
      "}, <OpenAIObject at 0x7fc3d81457c0> JSON: {\n",
      "  \"O\": -7.9249625,\n",
      "  \"o\": -5.92774,\n",
      "  \"oc\": -7.524141,\n",
      "  \"oj\": -0.009458568,\n",
      "  \"oy\": -8.187875\n",
      "}, <OpenAIObject at 0x7fc3d81459f0> JSON: {\n",
      "  \"\\n\": -10.207014,\n",
      "  \"_\": -9.481382,\n",
      "  \"os\": -0.0008033263,\n",
      "  \"osc\": -10.278372,\n",
      "  \"oss\": -9.492395\n",
      "}, <OpenAIObject at 0x7fc3d8145c20> JSON: {\n",
      "  \"\\n\": -0.112825595,\n",
      "  \"\\n\\n\": -4.2470536,\n",
      "  \" \": -4.6382504,\n",
      "  \"_\": -4.6439075,\n",
      "  \"|\": -3.762068\n",
      "}, <OpenAIObject at 0x7fc3d8145cc0> JSON: {\n",
      "  \"\\n\": -2.1096992,\n",
      "  \"El\": -1.819542,\n",
      "  \"T\": -3.0050662,\n",
      "  \"t\": -3.0820544,\n",
      "  \"ten\": -2.2455256\n",
      "}, <OpenAIObject at 0x7fc3d8145d60> JSON: {\n",
      "  \" c\": -0.12409155,\n",
      "  \" cor\": -4.720569,\n",
      "  \" cu\": -6.012744,\n",
      "  \" h\": -5.1780353,\n",
      "  \" t\": -5.3814917\n",
      "}, <OpenAIObject at 0x7fc3d8145e00> JSON: {\n",
      "  \" u\": -8.956509,\n",
      "  \"abe\": -8.206907,\n",
      "  \"iel\": -8.335943,\n",
      "  \"ri\": -9.034378,\n",
      "  \"uer\": -0.003157255\n",
      "}]\n"
     ]
    }
   ],
   "source": [
    "logprobs = response[\"choices\"][0][\"logprobs\"][\"top_logprobs\"]\n",
    "print(len(logprobs))\n",
    "print(logprobs)"
   ]
  },
  {
   "cell_type": "markdown",
   "id": "0e2ec176",
   "metadata": {},
   "source": [
    "La probabilidad de que el primer token sea 2 es de e^-0.15911467=0.8529 => 85.29%"
   ]
  }
 ],
 "metadata": {
  "kernelspec": {
   "display_name": "Python 3 (ipykernel)",
   "language": "python",
   "name": "python3"
  },
  "language_info": {
   "codemirror_mode": {
    "name": "ipython",
    "version": 3
   },
   "file_extension": ".py",
   "mimetype": "text/x-python",
   "name": "python",
   "nbconvert_exporter": "python",
   "pygments_lexer": "ipython3",
   "version": "3.9.7"
  }
 },
 "nbformat": 4,
 "nbformat_minor": 5
}
