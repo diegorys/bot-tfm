{
 "cells": [
  {
   "cell_type": "code",
   "execution_count": 7,
   "id": "c9678e49",
   "metadata": {},
   "outputs": [],
   "source": [
    "class SayHello:\n",
    "\n",
    "  def __init__(self, user):\n",
    "    self.user = user\n",
    "\n",
    "  def execute(self, user):\n",
    "    return f'Hola {user.name}'"
   ]
  },
  {
   "cell_type": "code",
   "execution_count": 8,
   "id": "67a3e978",
   "metadata": {},
   "outputs": [],
   "source": [
    "class User:\n",
    "    \n",
    "    def __init__(self, id, name):\n",
    "        self.id = id\n",
    "        self.name = name"
   ]
  },
  {
   "cell_type": "code",
   "execution_count": 9,
   "id": "1deb1b76",
   "metadata": {},
   "outputs": [
    {
     "data": {
      "text/plain": [
       "'Hola Diego'"
      ]
     },
     "execution_count": 9,
     "metadata": {},
     "output_type": "execute_result"
    }
   ],
   "source": [
    "user = User(1, 'Diego')\n",
    "hello = SayHello(user)\n",
    "hello.execute(user)"
   ]
  },
  {
   "cell_type": "code",
   "execution_count": null,
   "id": "1e3d4ffd",
   "metadata": {},
   "outputs": [],
   "source": []
  }
 ],
 "metadata": {
  "kernelspec": {
   "display_name": "Python 3 (ipykernel)",
   "language": "python",
   "name": "python3"
  },
  "language_info": {
   "codemirror_mode": {
    "name": "ipython",
    "version": 3
   },
   "file_extension": ".py",
   "mimetype": "text/x-python",
   "name": "python",
   "nbconvert_exporter": "python",
   "pygments_lexer": "ipython3",
   "version": "3.9.7"
  }
 },
 "nbformat": 4,
 "nbformat_minor": 5
}
