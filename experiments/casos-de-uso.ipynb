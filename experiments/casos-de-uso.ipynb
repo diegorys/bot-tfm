{
 "cells": [
  {
   "cell_type": "markdown",
   "id": "cb50307e",
   "metadata": {},
   "source": [
    "# Casos de uso"
   ]
  },
  {
   "cell_type": "code",
   "execution_count": 51,
   "id": "323c2b8a",
   "metadata": {},
   "outputs": [],
   "source": [
    "import os\n",
    "import openai\n",
    "\n",
    "openai.api_key = os.getenv(\"OPENAI_API_KEY\")\n",
    "\n",
    "def classify(examples, request):\n",
    "    prompt = examples + \"\\n\" + request + \":\"\n",
    "    restart_sequence = \"\\n\"\n",
    "    response = openai.Completion.create(\n",
    "      engine=\"davinci\",\n",
    "      prompt=prompt,\n",
    "      temperature=0,\n",
    "      max_tokens=30,\n",
    "      logprobs=5,\n",
    "      top_p=1,\n",
    "      frequency_penalty=0,\n",
    "      presence_penalty=0,\n",
    "      stop=[\"\\n\"]\n",
    "    )\n",
    "    return response"
   ]
  },
  {
   "cell_type": "markdown",
   "id": "552ee8a1",
   "metadata": {},
   "source": [
    "# Identificación del dominio"
   ]
  },
  {
   "cell_type": "code",
   "execution_count": 96,
   "id": "77160601",
   "metadata": {},
   "outputs": [
    {
     "name": "stdout",
     "output_type": "stream",
     "text": [
      "SALUDAR\n",
      "[-1.6015434, -0.004846714, -0.009111802, -0.009979544, -0.21895282, -1.8166513, -0.38993603, -0.58230245]\n",
      "[20.16, 99.52, 99.09, 99.01, 80.34, 16.26, 67.71, 55.86]\n",
      "67.24\n"
     ]
    }
   ],
   "source": [
    "import math\n",
    "import numpy as np\n",
    "\n",
    "examples = \"Hola|SALUDAR\\n\\start|SALUDAR\\nHola, soy Diego|SALUDAR\\nMe tengo que tomar el ibuprofeno a las 3|MEDICINA\\n\"\n",
    "output = classify(examples, \"Hola|\")\n",
    "print(output[\"choices\"][0][\"text\"])\n",
    "probs = output[\"choices\"][0][\"logprobs\"][\"token_logprobs\"]\n",
    "p = []\n",
    "for prob in probs:\n",
    "    p.append(round(math.exp(prob)*100, 2))\n",
    "print(probs)\n",
    "print(p)\n",
    "print(round(np.mean(p), 2))"
   ]
  },
  {
   "cell_type": "markdown",
   "id": "9faafaf1",
   "metadata": {},
   "source": [
    "# Saludo"
   ]
  },
  {
   "cell_type": "code",
   "execution_count": 41,
   "id": "38cce7aa",
   "metadata": {},
   "outputs": [
    {
     "name": "stdout",
     "output_type": "stream",
     "text": [
      " ¿Qué tal estás, Diego?\n"
     ]
    }
   ],
   "source": [
    "examples = \"Human: START\\nRobot: Hola Human\\nRobot: ¿qué tal estás?\\nHuman: ¡Hola!\\nRobot: ¿Qué tal estás, Human?\"\n",
    "output = classify(examples, \"Diego: ¡Hola!\\nRobot:\")\n",
    "print(output)"
   ]
  },
  {
   "cell_type": "markdown",
   "id": "54808601",
   "metadata": {},
   "source": [
    "## Detección del estado"
   ]
  },
  {
   "cell_type": "code",
   "execution_count": 2,
   "id": "92a084f2",
   "metadata": {},
   "outputs": [
    {
     "name": "stdout",
     "output_type": "stream",
     "text": [
      "DETECTAR_BAJON|medio|¿Quieres que te prepare un té?.\n"
     ]
    }
   ],
   "source": [
    "examples = \"Lista de textos:\\ntengo frío, hace frío:DETECTAR_FRIO|medio|¿enciendo la calefacción?.\\nlate muy fuerte, está muy alto el pulso:DETECTAR_PULSO_ALTO|alto|Relájate.\"\n",
    "#output = classify(examples, \"Estoy muy nervioso\")\n",
    "#output = classify(examples, \"No me siento bien\")\n",
    "#output = classify(examples, \"Ese payaso me da miedo.\")\n",
    "output = classify(examples, \"Estoy de bajón.\")\n",
    "print(output)"
   ]
  },
  {
   "cell_type": "markdown",
   "id": "67d2e3f1",
   "metadata": {},
   "source": [
    "## Recordatorio medicamentos"
   ]
  },
  {
   "cell_type": "code",
   "execution_count": 4,
   "id": "c79ecd01",
   "metadata": {},
   "outputs": [
    {
     "name": "stdout",
     "output_type": "stream",
     "text": [
      "|TOMAR#CALCIO|8:00.\n",
      "|TOMAR#ALERGIA|LEVANTARSE.\n"
     ]
    }
   ],
   "source": [
    "examples = \"Tengo que tomar un ibuprofeno los lunes|TOMAR#IBUPROFENO|LUNES.\\nA las 12:00 me toca el paracetamol|TOMAR#PARACETAMOL|12:00.\"\n",
    "output = classify(examples, \"A las 8 calcio.\")\n",
    "print(output)\n",
    "output = classify(examples, \"Me ha dicho el médico que me tome la pastilla de la alergia cuando me levante.\")\n",
    "print(output)"
   ]
  },
  {
   "cell_type": "code",
   "execution_count": 10,
   "id": "8b03baa6",
   "metadata": {},
   "outputs": [
    {
     "name": "stdout",
     "output_type": "stream",
     "text": [
      "¿cuándo me tengo que tomar el calcio?\n",
      "los lunes.\n",
      "¿a qué hora era lo del paracetamol?\n",
      "a las 12:00.\n",
      "¿a qué hora me tengo que tomar el ibuprofeno?\n",
      "los lunes.\n",
      "¿cuándo me tengo que tomar el ibuprofeno?\n",
      "los lunes.\n",
      "¿por qué me tengo que tomar el ibuprofeno?\n",
      "porque te pasa razón.\n"
     ]
    }
   ],
   "source": [
    "examples = \"TOMAR#IBUPROFENO|lunes.TOMAR#PARACETAMOL|12:00.\\nTOMAR#CALCIO:10:00.\\nTOMAR#ALERGIAPASTILLA:al levantarme\\n¿cuánto me toca el IBUPROFENO?:los lunes.\\n¿por qué me pasa esto?:porque te pasa razón.\"\n",
    "def test(pregunta):\n",
    "    print(pregunta)\n",
    "    output = classify(examples, pregunta)\n",
    "    print(output)\n",
    "\n",
    "test(\"¿cuándo me tengo que tomar el calcio?\")\n",
    "test(\"¿a qué hora era lo del paracetamol?\")\n",
    "test(\"¿a qué hora me tengo que tomar el ibuprofeno?\")\n",
    "test(\"¿cuándo me tengo que tomar el ibuprofeno?\")\n",
    "test(\"¿por qué me tengo que tomar el ibuprofeno?\")"
   ]
  },
  {
   "cell_type": "markdown",
   "id": "a972d41c",
   "metadata": {},
   "source": [
    "## Cuaderno de bitácora"
   ]
  },
  {
   "cell_type": "code",
   "execution_count": 6,
   "id": "5e34111c",
   "metadata": {},
   "outputs": [
    {
     "name": "stdout",
     "output_type": "stream",
     "text": [
      "Aniversario boda|Pepa y Pepe|10/10/2014.\n"
     ]
    }
   ],
   "source": [
    "examples = \"El cumple de María es el 03/04/1993:Cumpleaños|María|03/04/1993.\\nEl aniversario boda de Pepa y Pepe es el 10 de octubre de 2014:Aniversario boda|Pepa y Pepe|10/10/2014.\\nPepe cumple años el 12 de diciembre de 2001:Cumpleaños|Pepe|12/12/2010.\"\n",
    "output = classify(examples, \"¿cuándo es el aniversario de Pepa y Pepe?\")\n",
    "print(output)"
   ]
  },
  {
   "cell_type": "code",
   "execution_count": 11,
   "id": "faf3312c",
   "metadata": {},
   "outputs": [
    {
     "name": "stdout",
     "output_type": "stream",
     "text": [
      "Tengo que ir al otorrino\n",
      "|otorrino|30/CurrentMonth/CurrentYear 10:00.\n",
      "Cron recuerda que tienes dentista\n",
      "|pepe|otorrino|lunes|dentista|15/CurrentMonth/CurrentYear 08:00|15/CurrentMonth\n"
     ]
    }
   ],
   "source": [
    "examples = \"Persona: Tengo dentista el día 15 a las 8.\\nRobot: Lo anoto#anotar|dentista|15/CurrentMonth/CurrentYear 08:00.\\nHumano: A qué hora tengo dentista??.\\nRobot: A las 8:00 el día 15 de enero de 2022.\\nCron: Recuerda a Persona que tiene dentista mañana.\\nRobot: Persona, mañana tienes dentista a las 8:00.\\nSensor temperatura: hace frío.\\nRobot: Hace frío, quieres que encienda la calefacción??#confirmacion|encender|calefacción.\\nHumano: sí.\\nRobot: ok#confirmado.\\nSensor de conexión: inactividad|baja.\\nRobot: Hola, qué tal?.\\nSensor de conexión: inactividad|alta.\\nRobot: Voy a avisar a alguien de tu familia de que no contestas en 10 minutos#avisofamilia|10.\\nPersona: estoy bien.\"\n",
    "print(\"Tengo que ir al otorrino\")\n",
    "output = classify(examples, \"Persona: Tengo que ir al otorrino el día 30 a las 10.\\nRobot: .\")\n",
    "print(output)\n",
    "print(\"Cron recuerda que tienes dentista\")\n",
    "output = classify(examples, \"Cron: Dile a Pepe que tiene que ir al otorrino el lunes.\\nRobot: .\")\n",
    "print(output)"
   ]
  },
  {
   "cell_type": "code",
   "execution_count": null,
   "id": "59a5cf60",
   "metadata": {},
   "outputs": [],
   "source": []
  }
 ],
 "metadata": {
  "kernelspec": {
   "display_name": "Python 3 (ipykernel)",
   "language": "python",
   "name": "python3"
  },
  "language_info": {
   "codemirror_mode": {
    "name": "ipython",
    "version": 3
   },
   "file_extension": ".py",
   "mimetype": "text/x-python",
   "name": "python",
   "nbconvert_exporter": "python",
   "pygments_lexer": "ipython3",
   "version": "3.9.7"
  }
 },
 "nbformat": 4,
 "nbformat_minor": 5
}
