{
 "cells": [
  {
   "cell_type": "markdown",
   "id": "cb50307e",
   "metadata": {},
   "source": [
    "# Casos de uso"
   ]
  },
  {
   "cell_type": "code",
   "execution_count": null,
   "id": "323c2b8a",
   "metadata": {},
   "outputs": [],
   "source": [
    "import os\n",
    "import openai\n",
    "\n",
    "openai.api_key = os.getenv(\"OPENAI_API_KEY\")\n",
    "\n",
    "def classify(examples, request):\n",
    "    prompt = examples + \"\\n\" + request + \":\"\n",
    "    restart_sequence = \"\\n\"\n",
    "    response = openai.Completion.create(\n",
    "      engine=\"davinci\",\n",
    "      prompt=prompt,\n",
    "      temperature=0,\n",
    "      max_tokens=50,\n",
    "      logprobs=5,\n",
    "      top_p=1,\n",
    "      frequency_penalty=0,\n",
    "      presence_penalty=0,\n",
    "      stop=[\"\\n\"]\n",
    "    )\n",
    "    return response[\"choices\"][0][\"text\"]"
   ]
  },
  {
   "cell_type": "markdown",
   "id": "ec3a1684",
   "metadata": {},
   "source": [
    "# Identificación del dominio"
   ]
  },
  {
   "cell_type": "code",
   "execution_count": 32,
   "id": "f8e08534",
   "metadata": {},
   "outputs": [
    {
     "data": {
      "text/plain": [
       "'ANOTAR_MEDICACION'"
      ]
     },
     "execution_count": 32,
     "metadata": {},
     "output_type": "execute_result"
    }
   ],
   "source": [
    "import os\n",
    "import openai\n",
    "\n",
    "openai.api_key = os.getenv(\"OPENAI_API_KEY\")\n",
    "\n",
    "restart_sequence = \"\\n\"\n",
    "\n",
    "human: 'Me toca tocar el calcio a las 10'\n",
    "\n",
    "response = openai.Completion.create(\n",
    "  engine=\"text-davinci-002\",\n",
    "  prompt=\"Lista de intenciones:\\n\\nSALUDAR, ANOTAR_MEDICACION\\n\\nHola. Intención:SALUDAR\\nTomar ibuprofeno. Intención:ANOTAR_MEDICACION\\n\" + human + \". Intención:\",\n",
    "  temperature=0,\n",
    "  max_tokens=10,\n",
    "  top_p=1,\n",
    "  frequency_penalty=0,\n",
    "  presence_penalty=0,\n",
    "  stop=[\"\\n\"]\n",
    ")\n",
    "\n",
    "response[\"choices\"][0][\"text\"]"
   ]
  },
  {
   "cell_type": "markdown",
   "id": "72b27021",
   "metadata": {},
   "source": [
    "# Saludo"
   ]
  },
  {
   "cell_type": "code",
   "execution_count": 24,
   "id": "1efd87ee",
   "metadata": {},
   "outputs": [
    {
     "data": {
      "text/plain": [
       "' Hola, buenas tardes, ¿qué tal estás?'"
      ]
     },
     "execution_count": 24,
     "metadata": {},
     "output_type": "execute_result"
    }
   ],
   "source": [
    "import os\n",
    "import openai\n",
    "\n",
    "openai.api_key = os.getenv(\"OPENAI_API_KEY\")\n",
    "\n",
    "start_sequence = \"\\nAI:\"\n",
    "restart_sequence = \"\\nHuman: \"\n",
    "\n",
    "human = 'Hola, buenas tardes'\n",
    "response = openai.Completion.create(\n",
    "  engine=\"text-davinci-002\",\n",
    "  prompt=\"Conversación de saludo:\\n\\nHuman: Hola \\nAI: Hola, encantando de saludarte.\\nHuman: Hola, ¿quién eres?\\nAI: Hola, soy tu asistente.\\nHuman: Hola, ¿para qué sirves?\\nAI: Hola, estoy aquí para cuidarte.\\nHuman: Hola, ¿qué tal estás?\\nAI: Hola, soy tu asistente. ¿Cómo estás?\\nHuman: Hola, ¿quién eres?\\nAI: Hola, soy tu cuidador. ¿En qué te puedo ayudar?\\nHuman: Buenos días\\nAI: Hola, ¿en qué te puedo ayudar?\\nHuman: Buenas tardes\\nAI: Buenas tardes, ¿qué tal estás?\\nHuman: Buenas noches\\nAI: Buenas noches\\nHuman: \" + human + \"\\nAI:\",\n",
    "  temperature=0.9,\n",
    "  max_tokens=150,\n",
    "  top_p=1,\n",
    "  frequency_penalty=0,\n",
    "  presence_penalty=0.6,\n",
    "  stop=[\" Human:\", \" AI:\", \"\\n\"]\n",
    ")\n",
    "\n",
    "response[\"choices\"][0][\"text\"]"
   ]
  },
  {
   "cell_type": "markdown",
   "id": "54808601",
   "metadata": {},
   "source": [
    "## Detección del estado"
   ]
  },
  {
   "cell_type": "code",
   "execution_count": null,
   "id": "92a084f2",
   "metadata": {},
   "outputs": [],
   "source": [
    "examples = \"tengo frío, hace frío:DETECTAR_FRIO|medio|¿enciendo la calefacción?.\\nlate muy fuerte, está muy alto el pulso:DETECTAR_PULSO_ALTO|alto|Relájate.\"\n",
    "#output = classify(examples, \"Estoy muy nervioso\")\n",
    "#output = classify(examples, \"No me siento bien\")\n",
    "#output = classify(examples, \"Ese payaso me da miedo.\")\n",
    "output = classify(examples, \"Estoy con frío.\")\n",
    "print(output)"
   ]
  },
  {
   "cell_type": "markdown",
   "id": "67d2e3f1",
   "metadata": {},
   "source": [
    "## Anotar medicación"
   ]
  },
  {
   "cell_type": "code",
   "execution_count": 29,
   "id": "c79ecd01",
   "metadata": {},
   "outputs": [
    {
     "data": {
      "text/plain": [
       "\"recordar-medicamento medicamento='pastilla de la alergia' hora='15:00' hora='05:00'\""
      ]
     },
     "execution_count": 29,
     "metadata": {},
     "output_type": "execute_result"
    }
   ],
   "source": [
    "import os\n",
    "import openai\n",
    "\n",
    "human = 'Avísame a las 3 de la tarde y a las 5 de la mañana de que me tome la pastilla de la alergia'\n",
    "\n",
    "openai.api_key = os.getenv(\"OPENAI_API_KEY\")    \n",
    "response = openai.Completion.create(\n",
    "    engine=\"text-davinci-002\",\n",
    "    prompt=\"Convierte este texto a un comando:\\nEjemplo: Recuérdame tomar el ibuprofeno el lunes a las 8\\nComando: recordar-medicamento medicamento='ibuprofeno' hora='8:00' frecuencia='semanal' dia='lunes'\\n\\nEjemplo: Me toca tomar calcio a las 6 y media\\nComando: recordar-medicamento medicamento='calcio' hora='18:30'\\n\\n\" + human,\n",
    "    temperature=0,\n",
    "    max_tokens=100,\n",
    "    top_p=1,\n",
    "    frequency_penalty=0.2,\n",
    "    presence_penalty=0,\n",
    ")\n",
    "\n",
    "response[\"choices\"][0][\"text\"].replace('\\n', '')"
   ]
  },
  {
   "cell_type": "code",
   "execution_count": null,
   "id": "524e1657",
   "metadata": {},
   "outputs": [],
   "source": [
    "import os\n",
    "import openai\n",
    "\n",
    "openai.api_key = os.getenv(\"OPENAI_API_KEY\")\n",
    "\n",
    "start_sequence = \"\\nAI:\"\n",
    "restart_sequence = \"\\nCommand: \"\n",
    "\n",
    "response = openai.Completion.create(\n",
    "  engine=\"text-davinci-002\",\n",
    "  prompt=\"A partir de un comando de toma de medicamentos, se genera un texto para indicar al usuario que lo has entendido.\\n\\nCommand: recordar-medicamento medicamento='antihistamínico' hora='10:00'\\nAI: Vale, me he apuntado que te tomas antihistamínico a las 10:00\\nCommand: recordar-medicamento medicamento='ibuprofeno' hora='16:00'\\nAI: De acuerdo, a las 16:00 te tomas el ibuprofeno\\nCommand: recordar-medicamento medicamento='calcio' hora='11:20'\\nAI:\",\n",
    "  temperature=0.9,\n",
    "  max_tokens=150,\n",
    "  top_p=1,\n",
    "  frequency_penalty=0,\n",
    "  presence_penalty=0.6,\n",
    "  stop=[\" AI:\", \"Command\"]\n",
    ")"
   ]
  },
  {
   "cell_type": "markdown",
   "id": "a972d41c",
   "metadata": {},
   "source": [
    "## Cuaderno de bitácora"
   ]
  },
  {
   "cell_type": "code",
   "execution_count": null,
   "id": "5e34111c",
   "metadata": {},
   "outputs": [],
   "source": [
    "examples = \"El cumple de María es el 03/04/1993:Cumpleaños|María|03/04/1993.\\nEl aniversario boda de Pepa y Pepe es el 10 de octubre de 2014:Aniversario boda|Pepa y Pepe|10/10/2014.\\nPepe cumple años el 12 de diciembre de 2001:Cumpleaños|Pepe|12/12/2010.\"\n",
    "output = classify(examples, \"¿cuándo es el aniversario de Pepa y Pepe?\")\n",
    "print(output)"
   ]
  },
  {
   "cell_type": "code",
   "execution_count": null,
   "id": "faf3312c",
   "metadata": {},
   "outputs": [],
   "source": [
    "examples = \"Persona: Tengo dentista el día 15 a las 8.\\nRobot: Lo anoto#anotar|dentista|15/CurrentMonth/CurrentYear 08:00.\\nHumano: A qué hora tengo dentista??.\\nRobot: A las 8:00 el día 15 de enero de 2022.\\nCron: Recuerda a Persona que tiene dentista mañana.\\nRobot: Persona, mañana tienes dentista a las 8:00.\\nSensor temperatura: hace frío.\\nRobot: Hace frío, quieres que encienda la calefacción??#confirmacion|encender|calefacción.\\nHumano: sí.\\nRobot: ok#confirmado.\\nSensor de conexión: inactividad|baja.\\nRobot: Hola, qué tal?.\\nSensor de conexión: inactividad|alta.\\nRobot: Voy a avisar a alguien de tu familia de que no contestas en 10 minutos#avisofamilia|10.\\nPersona: estoy bien.\"\n",
    "print(\"Tengo que ir al otorrino\")\n",
    "output = classify(examples, \"Persona: Tengo que ir al otorrino el día 30 a las 10.\\nRobot: .\")\n",
    "print(output)\n",
    "print(\"Cron recuerda que tienes dentista\")\n",
    "output = classify(examples, \"Cron: Dile a Pepe que tiene que ir al otorrino el lunes.\\nRobot: .\")\n",
    "print(output)"
   ]
  },
  {
   "cell_type": "code",
   "execution_count": null,
   "id": "59a5cf60",
   "metadata": {},
   "outputs": [],
   "source": []
  }
 ],
 "metadata": {
  "kernelspec": {
   "display_name": "Python 3 (ipykernel)",
   "language": "python",
   "name": "python3"
  },
  "language_info": {
   "codemirror_mode": {
    "name": "ipython",
    "version": 3
   },
   "file_extension": ".py",
   "mimetype": "text/x-python",
   "name": "python",
   "nbconvert_exporter": "python",
   "pygments_lexer": "ipython3",
   "version": "3.9.7"
  }
 },
 "nbformat": 4,
 "nbformat_minor": 5
}
